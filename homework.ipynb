{
 "cells": [
  {
   "cell_type": "code",
   "execution_count": 0,
   "metadata": {
    "application/vnd.databricks.v1+cell": {
     "inputWidgets": {},
     "nuid": "974ff3a5-37b9-408c-a0e2-88d99b92f403",
     "showTitle": false,
     "title": ""
    }
   },
   "outputs": [
    {
     "data": {
      "text/html": [
       "<style scoped>\n",
       "  .ansiout {\n",
       "    display: block;\n",
       "    unicode-bidi: embed;\n",
       "    white-space: pre-wrap;\n",
       "    word-wrap: break-word;\n",
       "    word-break: break-all;\n",
       "    font-family: \"Source Code Pro\", \"Menlo\", monospace;;\n",
       "    font-size: 13px;\n",
       "    color: #555;\n",
       "    margin-left: 4px;\n",
       "    line-height: 19px;\n",
       "  }\n",
       "</style>\n",
       "<div class=\"ansiout\">+---+---------+----------+----------+------+-------------------+-----------+------+\n",
       " id|firstName|middleName|  lastName|gender|          birthDate|        ssn|salary|\n",
       "+---+---------+----------+----------+------+-------------------+-----------+------+\n",
       "  1|   Pennie|     Carry|Hirschmann|     F|1955-07-02 04:00:00|981-43-9345| 56172|\n",
       "  2|       An|     Amira|    Cowper|     F|1992-02-08 05:00:00|978-97-8086| 40203|\n",
       "  3|    Quyen|    Marlen|      Dome|     F|1970-10-11 04:00:00|957-57-8246| 53417|\n",
       "  4|  Coralie|  Antonina|   Marshal|     F|1990-04-11 04:00:00|963-39-4885| 94727|\n",
       "  5|   Terrie|      Wava|     Bonar|     F|1980-01-16 05:00:00|964-49-8051| 79908|\n",
       "+---+---------+----------+----------+------+-------------------+-----------+------+\n",
       "only showing top 5 rows\n",
       "\n",
       "</div>"
      ]
     },
     "metadata": {
      "application/vnd.databricks.v1+output": {
       "addedWidgets": {},
       "arguments": {},
       "data": "<div class=\"ansiout\">+---+---------+----------+----------+------+-------------------+-----------+------+\n| id|firstName|middleName|  lastName|gender|          birthDate|        ssn|salary|\n+---+---------+----------+----------+------+-------------------+-----------+------+\n|  1|   Pennie|     Carry|Hirschmann|     F|1955-07-02 04:00:00|981-43-9345| 56172|\n|  2|       An|     Amira|    Cowper|     F|1992-02-08 05:00:00|978-97-8086| 40203|\n|  3|    Quyen|    Marlen|      Dome|     F|1970-10-11 04:00:00|957-57-8246| 53417|\n|  4|  Coralie|  Antonina|   Marshal|     F|1990-04-11 04:00:00|963-39-4885| 94727|\n|  5|   Terrie|      Wava|     Bonar|     F|1980-01-16 05:00:00|964-49-8051| 79908|\n+---+---------+----------+----------+------+-------------------+-----------+------+\nonly showing top 5 rows\n\n</div>",
       "datasetInfos": [
        {
         "name": "peopleDF",
         "schema": {
          "fields": [
           {
            "metadata": {},
            "name": "id",
            "nullable": true,
            "type": "integer"
           },
           {
            "metadata": {},
            "name": "firstName",
            "nullable": true,
            "type": "string"
           },
           {
            "metadata": {},
            "name": "middleName",
            "nullable": true,
            "type": "string"
           },
           {
            "metadata": {},
            "name": "lastName",
            "nullable": true,
            "type": "string"
           },
           {
            "metadata": {},
            "name": "gender",
            "nullable": true,
            "type": "string"
           },
           {
            "metadata": {},
            "name": "birthDate",
            "nullable": true,
            "type": "timestamp"
           },
           {
            "metadata": {},
            "name": "ssn",
            "nullable": true,
            "type": "string"
           },
           {
            "metadata": {},
            "name": "salary",
            "nullable": true,
            "type": "integer"
           }
          ],
          "type": "struct"
         },
         "tableIdentifier": null,
         "typeStr": "pyspark.sql.dataframe.DataFrame"
        }
       ],
       "removedWidgets": [],
       "type": "html"
      }
     },
     "output_type": "display_data"
    }
   ],
   "source": [
    "peopleDF= spark.read.parquet(\"/FileStore/tables/people-parquet\")\n",
    "peopleDF.show(5)"
   ]
  },
  {
   "cell_type": "code",
   "execution_count": 0,
   "metadata": {
    "application/vnd.databricks.v1+cell": {
     "inputWidgets": {},
     "nuid": "17929bc0-fe30-4f04-8ed9-33c706a31f6c",
     "showTitle": false,
     "title": ""
    }
   },
   "outputs": [
    {
     "data": {
      "text/html": [
       "<style scoped>\n",
       "  .ansiout {\n",
       "    display: block;\n",
       "    unicode-bidi: embed;\n",
       "    white-space: pre-wrap;\n",
       "    word-wrap: break-word;\n",
       "    word-break: break-all;\n",
       "    font-family: \"Source Code Pro\", \"Menlo\", monospace;;\n",
       "    font-size: 13px;\n",
       "    color: #555;\n",
       "    margin-left: 4px;\n",
       "    line-height: 19px;\n",
       "  }\n",
       "</style>\n",
       "<div class=\"ansiout\">+---------+-----+\n",
       "firstName|count|\n",
       "+---------+-----+\n",
       "   Sammie| 5462|\n",
       "    Daryl| 5442|\n",
       "   Bobbie| 5432|\n",
       "      Lee| 5411|\n",
       "     Troy| 5408|\n",
       "+---------+-----+\n",
       "only showing top 5 rows\n",
       "\n",
       "</div>"
      ]
     },
     "metadata": {
      "application/vnd.databricks.v1+output": {
       "addedWidgets": {},
       "arguments": {},
       "data": "<div class=\"ansiout\">+---------+-----+\n|firstName|count|\n+---------+-----+\n|   Sammie| 5462|\n|    Daryl| 5442|\n|   Bobbie| 5432|\n|      Lee| 5411|\n|     Troy| 5408|\n+---------+-----+\nonly showing top 5 rows\n\n</div>",
       "datasetInfos": [],
       "removedWidgets": [],
       "type": "html"
      }
     },
     "output_type": "display_data"
    }
   ],
   "source": [
    "peopleDF.groupBy(\"firstName\").count()\\\n",
    "        .orderBy(\"count\", ascending=False)\\\n",
    "        .show(5) "
   ]
  },
  {
   "cell_type": "code",
   "execution_count": 0,
   "metadata": {
    "application/vnd.databricks.v1+cell": {
     "inputWidgets": {},
     "nuid": "9a5f7009-e8e1-4854-ac64-be352bb89872",
     "showTitle": false,
     "title": ""
    }
   },
   "outputs": [
    {
     "data": {
      "text/html": [
       "<style scoped>\n",
       "  .ansiout {\n",
       "    display: block;\n",
       "    unicode-bidi: embed;\n",
       "    white-space: pre-wrap;\n",
       "    word-wrap: break-word;\n",
       "    word-break: break-all;\n",
       "    font-family: \"Source Code Pro\", \"Menlo\", monospace;;\n",
       "    font-size: 13px;\n",
       "    color: #555;\n",
       "    margin-left: 4px;\n",
       "    line-height: 19px;\n",
       "  }\n",
       "</style>\n",
       "<div class=\"ansiout\">+---------+-----+\n",
       "firstName|count|\n",
       "+---------+-----+\n",
       "   Alayna| 1313|\n",
       "  Melaine| 1237|\n",
       "     Faye| 1350|\n",
       "    Tegan| 1222|\n",
       " Lashanda| 1282|\n",
       "+---------+-----+\n",
       "only showing top 5 rows\n",
       "\n",
       "</div>"
      ]
     },
     "metadata": {
      "application/vnd.databricks.v1+output": {
       "addedWidgets": {},
       "arguments": {},
       "data": "<div class=\"ansiout\">+---------+-----+\n|firstName|count|\n+---------+-----+\n|   Alayna| 1313|\n|  Melaine| 1237|\n|     Faye| 1350|\n|    Tegan| 1222|\n| Lashanda| 1282|\n+---------+-----+\nonly showing top 5 rows\n\n</div>",
       "datasetInfos": [],
       "removedWidgets": [],
       "type": "html"
      }
     },
     "output_type": "display_data"
    }
   ],
   "source": [
    "peopleDF.groupBy(\"firstName\").count().show(5)"
   ]
  },
  {
   "cell_type": "code",
   "execution_count": 0,
   "metadata": {
    "application/vnd.databricks.v1+cell": {
     "inputWidgets": {},
     "nuid": "a1ae2952-1e37-4349-8949-f9caf58de70c",
     "showTitle": false,
     "title": ""
    }
   },
   "outputs": [
    {
     "data": {
      "text/html": [
       "<style scoped>\n",
       "  .ansiout {\n",
       "    display: block;\n",
       "    unicode-bidi: embed;\n",
       "    white-space: pre-wrap;\n",
       "    word-wrap: break-word;\n",
       "    word-break: break-all;\n",
       "    font-family: \"Source Code Pro\", \"Menlo\", monospace;;\n",
       "    font-size: 13px;\n",
       "    color: #555;\n",
       "    margin-left: 4px;\n",
       "    line-height: 19px;\n",
       "  }\n",
       "</style>\n",
       "<div class=\"ansiout\">+----------+-----+\n",
       "middleName|count|\n",
       "+----------+-----+\n",
       "   Bryanna| 1140|\n",
       "     Sofia| 1154|\n",
       "   Raylene| 1157|\n",
       "   Leonila| 1157|\n",
       " Ernestine| 1159|\n",
       "+----------+-----+\n",
       "only showing top 5 rows\n",
       "\n",
       "</div>"
      ]
     },
     "metadata": {
      "application/vnd.databricks.v1+output": {
       "addedWidgets": {},
       "arguments": {},
       "data": "<div class=\"ansiout\">+----------+-----+\n|middleName|count|\n+----------+-----+\n|   Bryanna| 1140|\n|     Sofia| 1154|\n|   Raylene| 1157|\n|   Leonila| 1157|\n| Ernestine| 1159|\n+----------+-----+\nonly showing top 5 rows\n\n</div>",
       "datasetInfos": [],
       "removedWidgets": [],
       "type": "html"
      }
     },
     "output_type": "display_data"
    }
   ],
   "source": [
    "from pyspark.sql.functions import col\n",
    "peopleDF.groupBy(\"middleName\").count()\\\n",
    "        .filter(col(\"count\") <= \"3000\")\\\n",
    "        .orderBy(\"count\")\\\n",
    "        .show(5) "
   ]
  },
  {
   "cell_type": "code",
   "execution_count": 0,
   "metadata": {
    "application/vnd.databricks.v1+cell": {
     "inputWidgets": {},
     "nuid": "3e4a4bbb-149d-4962-a1f2-6fd24eafd5b2",
     "showTitle": false,
     "title": ""
    }
   },
   "outputs": [
    {
     "data": {
      "text/html": [
       "<style scoped>\n",
       "  .ansiout {\n",
       "    display: block;\n",
       "    unicode-bidi: embed;\n",
       "    white-space: pre-wrap;\n",
       "    word-wrap: break-word;\n",
       "    word-break: break-all;\n",
       "    font-family: \"Source Code Pro\", \"Menlo\", monospace;;\n",
       "    font-size: 13px;\n",
       "    color: #555;\n",
       "    margin-left: 4px;\n",
       "    line-height: 19px;\n",
       "  }\n",
       "</style>\n",
       "<div class=\"ansiout\"></div>"
      ]
     },
     "metadata": {
      "application/vnd.databricks.v1+output": {
       "addedWidgets": {},
       "arguments": {},
       "data": "<div class=\"ansiout\"></div>",
       "datasetInfos": [],
       "removedWidgets": [],
       "type": "html"
      }
     },
     "output_type": "display_data"
    }
   ],
   "source": [
    "# 11주차 강의 과제 9"
   ]
  },
  {
   "cell_type": "code",
   "execution_count": 0,
   "metadata": {
    "application/vnd.databricks.v1+cell": {
     "inputWidgets": {},
     "nuid": "56c8541f-e41d-4934-b095-d7062d410007",
     "showTitle": false,
     "title": ""
    }
   },
   "outputs": [
    {
     "data": {
      "text/html": [
       "<style scoped>\n",
       "  .ansiout {\n",
       "    display: block;\n",
       "    unicode-bidi: embed;\n",
       "    white-space: pre-wrap;\n",
       "    word-wrap: break-word;\n",
       "    word-break: break-all;\n",
       "    font-family: \"Source Code Pro\", \"Menlo\", monospace;;\n",
       "    font-size: 13px;\n",
       "    color: #555;\n",
       "    margin-left: 4px;\n",
       "    line-height: 19px;\n",
       "  }\n",
       "</style>\n",
       "<div class=\"ansiout\">+---+---------+----------+----------+------+-------------------+-----------+------+\n",
       " id|firstName|middleName|  lastName|gender|          birthDate|        ssn|salary|\n",
       "+---+---------+----------+----------+------+-------------------+-----------+------+\n",
       "  1|   Pennie|     Carry|Hirschmann|     F|1955-07-02 04:00:00|981-43-9345| 56172|\n",
       "  2|       An|     Amira|    Cowper|     F|1992-02-08 05:00:00|978-97-8086| 40203|\n",
       "  3|    Quyen|    Marlen|      Dome|     F|1970-10-11 04:00:00|957-57-8246| 53417|\n",
       "  4|  Coralie|  Antonina|   Marshal|     F|1990-04-11 04:00:00|963-39-4885| 94727|\n",
       "  5|   Terrie|      Wava|     Bonar|     F|1980-01-16 05:00:00|964-49-8051| 79908|\n",
       "+---+---------+----------+----------+------+-------------------+-----------+------+\n",
       "only showing top 5 rows\n",
       "\n",
       "</div>"
      ]
     },
     "metadata": {
      "application/vnd.databricks.v1+output": {
       "addedWidgets": {},
       "arguments": {},
       "data": "<div class=\"ansiout\">+---+---------+----------+----------+------+-------------------+-----------+------+\n| id|firstName|middleName|  lastName|gender|          birthDate|        ssn|salary|\n+---+---------+----------+----------+------+-------------------+-----------+------+\n|  1|   Pennie|     Carry|Hirschmann|     F|1955-07-02 04:00:00|981-43-9345| 56172|\n|  2|       An|     Amira|    Cowper|     F|1992-02-08 05:00:00|978-97-8086| 40203|\n|  3|    Quyen|    Marlen|      Dome|     F|1970-10-11 04:00:00|957-57-8246| 53417|\n|  4|  Coralie|  Antonina|   Marshal|     F|1990-04-11 04:00:00|963-39-4885| 94727|\n|  5|   Terrie|      Wava|     Bonar|     F|1980-01-16 05:00:00|964-49-8051| 79908|\n+---+---------+----------+----------+------+-------------------+-----------+------+\nonly showing top 5 rows\n\n</div>",
       "datasetInfos": [
        {
         "name": "peopleDF",
         "schema": {
          "fields": [
           {
            "metadata": {},
            "name": "id",
            "nullable": true,
            "type": "integer"
           },
           {
            "metadata": {},
            "name": "firstName",
            "nullable": true,
            "type": "string"
           },
           {
            "metadata": {},
            "name": "middleName",
            "nullable": true,
            "type": "string"
           },
           {
            "metadata": {},
            "name": "lastName",
            "nullable": true,
            "type": "string"
           },
           {
            "metadata": {},
            "name": "gender",
            "nullable": true,
            "type": "string"
           },
           {
            "metadata": {},
            "name": "birthDate",
            "nullable": true,
            "type": "timestamp"
           },
           {
            "metadata": {},
            "name": "ssn",
            "nullable": true,
            "type": "string"
           },
           {
            "metadata": {},
            "name": "salary",
            "nullable": true,
            "type": "integer"
           }
          ],
          "type": "struct"
         },
         "tableIdentifier": null,
         "typeStr": "pyspark.sql.dataframe.DataFrame"
        }
       ],
       "removedWidgets": [],
       "type": "html"
      }
     },
     "output_type": "display_data"
    }
   ],
   "source": [
    "peopleDF= spark.read.parquet(\"/FileStore/tables/people-parquet\")\n",
    "peopleDF.show(5)"
   ]
  },
  {
   "cell_type": "code",
   "execution_count": 0,
   "metadata": {
    "application/vnd.databricks.v1+cell": {
     "inputWidgets": {},
     "nuid": "e8cc6bc1-b261-4989-a896-909a70a1ec67",
     "showTitle": false,
     "title": ""
    }
   },
   "outputs": [
    {
     "data": {
      "text/html": [
       "<style scoped>\n",
       "  .ansiout {\n",
       "    display: block;\n",
       "    unicode-bidi: embed;\n",
       "    white-space: pre-wrap;\n",
       "    word-wrap: break-word;\n",
       "    word-break: break-all;\n",
       "    font-family: \"Source Code Pro\", \"Menlo\", monospace;;\n",
       "    font-size: 13px;\n",
       "    color: #555;\n",
       "    margin-left: 4px;\n",
       "    line-height: 19px;\n",
       "  }\n",
       "</style>\n",
       "<div class=\"ansiout\">+---------+----------+\n",
       "firstName|middleName|\n",
       "+---------+----------+\n",
       "   Pennie|     Carry|\n",
       "       An|     Amira|\n",
       "    Quyen|    Marlen|\n",
       "  Coralie|  Antonina|\n",
       "   Terrie|      Wava|\n",
       "+---------+----------+\n",
       "only showing top 5 rows\n",
       "\n",
       "</div>"
      ]
     },
     "metadata": {
      "application/vnd.databricks.v1+output": {
       "addedWidgets": {},
       "arguments": {},
       "data": "<div class=\"ansiout\">+---------+----------+\n|firstName|middleName|\n+---------+----------+\n|   Pennie|     Carry|\n|       An|     Amira|\n|    Quyen|    Marlen|\n|  Coralie|  Antonina|\n|   Terrie|      Wava|\n+---------+----------+\nonly showing top 5 rows\n\n</div>",
       "datasetInfos": [],
       "removedWidgets": [],
       "type": "html"
      }
     },
     "output_type": "display_data"
    }
   ],
   "source": [
    "peopleDF['firstName','middleName'].show(5)"
   ]
  },
  {
   "cell_type": "code",
   "execution_count": 0,
   "metadata": {
    "application/vnd.databricks.v1+cell": {
     "inputWidgets": {},
     "nuid": "007658cd-5d2e-4034-94d2-351afebde7c9",
     "showTitle": false,
     "title": ""
    }
   },
   "outputs": [
    {
     "data": {
      "text/html": [
       "<style scoped>\n",
       "  .ansiout {\n",
       "    display: block;\n",
       "    unicode-bidi: embed;\n",
       "    white-space: pre-wrap;\n",
       "    word-wrap: break-word;\n",
       "    word-break: break-all;\n",
       "    font-family: \"Source Code Pro\", \"Menlo\", monospace;;\n",
       "    font-size: 13px;\n",
       "    color: #555;\n",
       "    margin-left: 4px;\n",
       "    line-height: 19px;\n",
       "  }\n",
       "</style>\n",
       "<div class=\"ansiout\">Out[7]: [&#39;id&#39;,\n",
       " &#39;firstName&#39;,\n",
       " &#39;middleName&#39;,\n",
       " &#39;lastName&#39;,\n",
       " &#39;gender&#39;,\n",
       " &#39;birthDate&#39;,\n",
       " &#39;ssn&#39;,\n",
       " &#39;salary&#39;]</div>"
      ]
     },
     "metadata": {
      "application/vnd.databricks.v1+output": {
       "addedWidgets": {},
       "arguments": {},
       "data": "<div class=\"ansiout\">Out[7]: [&#39;id&#39;,\n &#39;firstName&#39;,\n &#39;middleName&#39;,\n &#39;lastName&#39;,\n &#39;gender&#39;,\n &#39;birthDate&#39;,\n &#39;ssn&#39;,\n &#39;salary&#39;]</div>",
       "datasetInfos": [],
       "removedWidgets": [],
       "type": "html"
      }
     },
     "output_type": "display_data"
    }
   ],
   "source": [
    "peopleDF.columns"
   ]
  },
  {
   "cell_type": "code",
   "execution_count": 0,
   "metadata": {
    "application/vnd.databricks.v1+cell": {
     "inputWidgets": {},
     "nuid": "680f3285-a93a-4069-a35a-e9f40cda1f0d",
     "showTitle": false,
     "title": ""
    }
   },
   "outputs": [
    {
     "data": {
      "text/html": [
       "<style scoped>\n",
       "  .ansiout {\n",
       "    display: block;\n",
       "    unicode-bidi: embed;\n",
       "    white-space: pre-wrap;\n",
       "    word-wrap: break-word;\n",
       "    word-break: break-all;\n",
       "    font-family: \"Source Code Pro\", \"Menlo\", monospace;;\n",
       "    font-size: 13px;\n",
       "    color: #555;\n",
       "    margin-left: 4px;\n",
       "    line-height: 19px;\n",
       "  }\n",
       "</style>\n",
       "<div class=\"ansiout\">[&#39;firstName&#39;, &#39;middleName&#39;, &#39;lastName&#39;]\n",
       "+---------+----------+----------+\n",
       "firstName|middleName|  lastName|\n",
       "+---------+----------+----------+\n",
       "   Pennie|     Carry|Hirschmann|\n",
       "+---------+----------+----------+\n",
       "only showing top 1 row\n",
       "\n",
       "+----------+-----+\n",
       "middleName|count|\n",
       "+----------+-----+\n",
       "     Tegan| 1309|\n",
       "      Reta| 1277|\n",
       "  Julianne| 1260|\n",
       "     Sandi| 1233|\n",
       "   Susanna| 1255|\n",
       "+----------+-----+\n",
       "only showing top 5 rows\n",
       "\n",
       "</div>"
      ]
     },
     "metadata": {
      "application/vnd.databricks.v1+output": {
       "addedWidgets": {},
       "arguments": {},
       "data": "<div class=\"ansiout\">[&#39;firstName&#39;, &#39;middleName&#39;, &#39;lastName&#39;]\n+---------+----------+----------+\n|firstName|middleName|  lastName|\n+---------+----------+----------+\n|   Pennie|     Carry|Hirschmann|\n+---------+----------+----------+\nonly showing top 1 row\n\n+----------+-----+\n|middleName|count|\n+----------+-----+\n|     Tegan| 1309|\n|      Reta| 1277|\n|  Julianne| 1260|\n|     Sandi| 1233|\n|   Susanna| 1255|\n+----------+-----+\nonly showing top 5 rows\n\n</div>",
       "datasetInfos": [
        {
         "name": "nameDF",
         "schema": {
          "fields": [
           {
            "metadata": {},
            "name": "firstName",
            "nullable": true,
            "type": "string"
           },
           {
            "metadata": {},
            "name": "middleName",
            "nullable": true,
            "type": "string"
           },
           {
            "metadata": {},
            "name": "lastName",
            "nullable": true,
            "type": "string"
           }
          ],
          "type": "struct"
         },
         "tableIdentifier": null,
         "typeStr": "pyspark.sql.dataframe.DataFrame"
        }
       ],
       "removedWidgets": [],
       "type": "html"
      }
     },
     "output_type": "display_data"
    }
   ],
   "source": [
    "name_lst = [c for c in peopleDF.columns if 'Name' in c]\n",
    "print(name_lst)\n",
    "nameDF = peopleDF[name_lst]\n",
    "nameDF.show(1)\n",
    "\n",
    "nameDF.groupBy('middleName').count().show(5)"
   ]
  },
  {
   "cell_type": "code",
   "execution_count": 0,
   "metadata": {
    "application/vnd.databricks.v1+cell": {
     "inputWidgets": {},
     "nuid": "266ce045-bd47-474c-a61f-92c0505cbc1b",
     "showTitle": false,
     "title": ""
    }
   },
   "outputs": [
    {
     "data": {
      "text/html": [
       "<style scoped>\n",
       "  .ansiout {\n",
       "    display: block;\n",
       "    unicode-bidi: embed;\n",
       "    white-space: pre-wrap;\n",
       "    word-wrap: break-word;\n",
       "    word-break: break-all;\n",
       "    font-family: \"Source Code Pro\", \"Menlo\", monospace;;\n",
       "    font-size: 13px;\n",
       "    color: #555;\n",
       "    margin-left: 4px;\n",
       "    line-height: 19px;\n",
       "  }\n",
       "</style>\n",
       "<div class=\"ansiout\">5113\n",
       "+---------+\n",
       "firstName|\n",
       "+---------+\n",
       "    Zulma|\n",
       "   Zulema|\n",
       "     Zula|\n",
       "  Zoraida|\n",
       "     Zora|\n",
       "+---------+\n",
       "only showing top 5 rows\n",
       "\n",
       "</div>"
      ]
     },
     "metadata": {
      "application/vnd.databricks.v1+output": {
       "addedWidgets": {},
       "arguments": {},
       "data": "<div class=\"ansiout\">5113\n+---------+\n|firstName|\n+---------+\n|    Zulma|\n|   Zulema|\n|     Zula|\n|  Zoraida|\n|     Zora|\n+---------+\nonly showing top 5 rows\n\n</div>",
       "datasetInfos": [
        {
         "name": "firstName",
         "schema": {
          "fields": [
           {
            "metadata": {},
            "name": "firstName",
            "nullable": true,
            "type": "string"
           }
          ],
          "type": "struct"
         },
         "tableIdentifier": null,
         "typeStr": "pyspark.sql.dataframe.DataFrame"
        },
        {
         "name": "sortingDF",
         "schema": {
          "fields": [
           {
            "metadata": {},
            "name": "firstName",
            "nullable": true,
            "type": "string"
           }
          ],
          "type": "struct"
         },
         "tableIdentifier": null,
         "typeStr": "pyspark.sql.dataframe.DataFrame"
        }
       ],
       "removedWidgets": [],
       "type": "html"
      }
     },
     "output_type": "display_data"
    }
   ],
   "source": [
    "firstName = peopleDF.select('firstName').distinct()\n",
    "print(firstName.count())\n",
    "sortingDF = firstName.orderBy('firstName', ascending=False)\n",
    "sortingDF.show(5)"
   ]
  },
  {
   "cell_type": "code",
   "execution_count": 0,
   "metadata": {
    "application/vnd.databricks.v1+cell": {
     "inputWidgets": {},
     "nuid": "9678c6dc-94e9-4f71-a431-421b3bde77b3",
     "showTitle": false,
     "title": ""
    }
   },
   "outputs": [
    {
     "data": {
      "text/html": [
       "<style scoped>\n",
       "  .ansiout {\n",
       "    display: block;\n",
       "    unicode-bidi: embed;\n",
       "    white-space: pre-wrap;\n",
       "    word-wrap: break-word;\n",
       "    word-break: break-all;\n",
       "    font-family: \"Source Code Pro\", \"Menlo\", monospace;;\n",
       "    font-size: 13px;\n",
       "    color: #555;\n",
       "    margin-left: 4px;\n",
       "    line-height: 19px;\n",
       "  }\n",
       "</style>\n",
       "<div class=\"ansiout\">+----+-----+\n",
       "name|score|\n",
       "+----+-----+\n",
       " tom|   70|\n",
       " bob|  100|\n",
       " sam|   60|\n",
       " lee|   85|\n",
       " jun|   75|\n",
       "+----+-----+\n",
       "\n",
       "+----+-----+\n",
       "name|score|\n",
       "+----+-----+\n",
       " tom|   55|\n",
       " sam|   88|\n",
       " kim|   90|\n",
       " jun|   67|\n",
       "choi|   95|\n",
       "+----+-----+\n",
       "\n",
       "</div>"
      ]
     },
     "metadata": {
      "application/vnd.databricks.v1+output": {
       "addedWidgets": {},
       "arguments": {},
       "data": "<div class=\"ansiout\">+----+-----+\n|name|score|\n+----+-----+\n| tom|   70|\n| bob|  100|\n| sam|   60|\n| lee|   85|\n| jun|   75|\n+----+-----+\n\n+----+-----+\n|name|score|\n+----+-----+\n| tom|   55|\n| sam|   88|\n| kim|   90|\n| jun|   67|\n|choi|   95|\n+----+-----+\n\n</div>",
       "datasetInfos": [
        {
         "name": "table_math",
         "schema": {
          "fields": [
           {
            "metadata": {},
            "name": "name",
            "nullable": true,
            "type": "string"
           },
           {
            "metadata": {},
            "name": "score",
            "nullable": true,
            "type": "long"
           }
          ],
          "type": "struct"
         },
         "tableIdentifier": null,
         "typeStr": "pyspark.sql.dataframe.DataFrame"
        },
        {
         "name": "table_english",
         "schema": {
          "fields": [
           {
            "metadata": {},
            "name": "name",
            "nullable": true,
            "type": "string"
           },
           {
            "metadata": {},
            "name": "score",
            "nullable": true,
            "type": "long"
           }
          ],
          "type": "struct"
         },
         "tableIdentifier": null,
         "typeStr": "pyspark.sql.dataframe.DataFrame"
        },
        {
         "name": "mathS_df",
         "schema": {
          "fields": [
           {
            "metadata": {},
            "name": "name",
            "nullable": true,
            "type": "string"
           },
           {
            "metadata": {},
            "name": "score",
            "nullable": true,
            "type": "long"
           }
          ],
          "type": "struct"
         },
         "tableIdentifier": null,
         "typeStr": "pyspark.sql.dataframe.DataFrame"
        },
        {
         "name": "englishS_df",
         "schema": {
          "fields": [
           {
            "metadata": {},
            "name": "name",
            "nullable": true,
            "type": "string"
           },
           {
            "metadata": {},
            "name": "score",
            "nullable": true,
            "type": "long"
           }
          ],
          "type": "struct"
         },
         "tableIdentifier": null,
         "typeStr": "pyspark.sql.dataframe.DataFrame"
        }
       ],
       "removedWidgets": [],
       "type": "html"
      }
     },
     "output_type": "display_data"
    }
   ],
   "source": [
    "math_score = [('tom', 70), ('bob', 100), ('sam', 60), ('lee', 85), ('jun', 75)]\n",
    "table_math = spark.createDataFrame(math_score, ['name', 'score'])\n",
    "\n",
    "english_score = [('tom', 55), ('sam', 88), ('kim', 90), ('jun', 67), ('choi', 95)]\n",
    "table_english = spark.createDataFrame(english_score, ['name', 'score'] )\n",
    "\n",
    "mathS_df = table_math.alias('mathS_df')\n",
    "englishS_df = table_english.alias('englishS_df')\n",
    "\n",
    "mathS_df.show()\n",
    "englishS_df.show()"
   ]
  },
  {
   "cell_type": "code",
   "execution_count": 0,
   "metadata": {
    "application/vnd.databricks.v1+cell": {
     "inputWidgets": {},
     "nuid": "8f915314-d135-4ee3-b581-f87b03170aca",
     "showTitle": false,
     "title": ""
    }
   },
   "outputs": [
    {
     "data": {
      "text/html": [
       "<style scoped>\n",
       "  .ansiout {\n",
       "    display: block;\n",
       "    unicode-bidi: embed;\n",
       "    white-space: pre-wrap;\n",
       "    word-wrap: break-word;\n",
       "    word-break: break-all;\n",
       "    font-family: \"Source Code Pro\", \"Menlo\", monospace;;\n",
       "    font-size: 13px;\n",
       "    color: #555;\n",
       "    margin-left: 4px;\n",
       "    line-height: 19px;\n",
       "  }\n",
       "</style>\n",
       "<div class=\"ansiout\">+----+----------+----+-------------+\n",
       "name|math score|name|english score|\n",
       "+----+----------+----+-------------+\n",
       " jun|        75| jun|           67|\n",
       " sam|        60| sam|           88|\n",
       " tom|        70| tom|           55|\n",
       "+----+----------+----+-------------+\n",
       "\n",
       "</div>"
      ]
     },
     "metadata": {
      "application/vnd.databricks.v1+output": {
       "addedWidgets": {},
       "arguments": {},
       "data": "<div class=\"ansiout\">+----+----------+----+-------------+\n|name|math score|name|english score|\n+----+----------+----+-------------+\n| jun|        75| jun|           67|\n| sam|        60| sam|           88|\n| tom|        70| tom|           55|\n+----+----------+----+-------------+\n\n</div>",
       "datasetInfos": [
        {
         "name": "mathS_df",
         "schema": {
          "fields": [
           {
            "metadata": {},
            "name": "name",
            "nullable": true,
            "type": "string"
           },
           {
            "metadata": {},
            "name": "math score",
            "nullable": true,
            "type": "long"
           }
          ],
          "type": "struct"
         },
         "tableIdentifier": null,
         "typeStr": "pyspark.sql.dataframe.DataFrame"
        },
        {
         "name": "englishS_df",
         "schema": {
          "fields": [
           {
            "metadata": {},
            "name": "name",
            "nullable": true,
            "type": "string"
           },
           {
            "metadata": {},
            "name": "english score",
            "nullable": true,
            "type": "long"
           }
          ],
          "type": "struct"
         },
         "tableIdentifier": null,
         "typeStr": "pyspark.sql.dataframe.DataFrame"
        },
        {
         "name": "join1",
         "schema": {
          "fields": [
           {
            "metadata": {},
            "name": "name",
            "nullable": true,
            "type": "string"
           },
           {
            "metadata": {},
            "name": "math score",
            "nullable": true,
            "type": "long"
           },
           {
            "metadata": {},
            "name": "name",
            "nullable": true,
            "type": "string"
           },
           {
            "metadata": {},
            "name": "english score",
            "nullable": true,
            "type": "long"
           }
          ],
          "type": "struct"
         },
         "tableIdentifier": null,
         "typeStr": "pyspark.sql.dataframe.DataFrame"
        }
       ],
       "removedWidgets": [],
       "type": "html"
      }
     },
     "output_type": "display_data"
    }
   ],
   "source": [
    "mathS_df = mathS_df.withColumnRenamed('score', 'math score')\n",
    "englishS_df = englishS_df.withColumnRenamed('score', 'english score')\n",
    "\n",
    "join1 = mathS_df.join(englishS_df, mathS_df.name == englishS_df.name)\n",
    "join1.show()"
   ]
  },
  {
   "cell_type": "code",
   "execution_count": 0,
   "metadata": {
    "application/vnd.databricks.v1+cell": {
     "inputWidgets": {},
     "nuid": "fddb2b02-cdad-4f10-bc55-8e634ed64534",
     "showTitle": false,
     "title": ""
    }
   },
   "outputs": [
    {
     "data": {
      "text/html": [
       "<style scoped>\n",
       "  .ansiout {\n",
       "    display: block;\n",
       "    unicode-bidi: embed;\n",
       "    white-space: pre-wrap;\n",
       "    word-wrap: break-word;\n",
       "    word-break: break-all;\n",
       "    font-family: \"Source Code Pro\", \"Menlo\", monospace;;\n",
       "    font-size: 13px;\n",
       "    color: #555;\n",
       "    margin-left: 4px;\n",
       "    line-height: 19px;\n",
       "  }\n",
       "</style>\n",
       "<div class=\"ansiout\">+----+----------+\n",
       "name|math score|\n",
       "+----+----------+\n",
       " tom|        70|\n",
       " bob|       100|\n",
       " sam|        60|\n",
       " lee|        85|\n",
       " jun|        75|\n",
       "+----+----------+\n",
       "\n",
       "</div>"
      ]
     },
     "metadata": {
      "application/vnd.databricks.v1+output": {
       "addedWidgets": {},
       "arguments": {},
       "data": "<div class=\"ansiout\">+----+----------+\n|name|math score|\n+----+----------+\n| tom|        70|\n| bob|       100|\n| sam|        60|\n| lee|        85|\n| jun|        75|\n+----+----------+\n\n</div>",
       "datasetInfos": [],
       "removedWidgets": [],
       "type": "html"
      }
     },
     "output_type": "display_data"
    }
   ],
   "source": [
    "mathS_df.show(5)"
   ]
  },
  {
   "cell_type": "code",
   "execution_count": 0,
   "metadata": {
    "application/vnd.databricks.v1+cell": {
     "inputWidgets": {},
     "nuid": "e7f6606a-4b7b-440b-ae1d-cbcaec6f089a",
     "showTitle": false,
     "title": ""
    }
   },
   "outputs": [
    {
     "data": {
      "text/html": [
       "<style scoped>\n",
       "  .ansiout {\n",
       "    display: block;\n",
       "    unicode-bidi: embed;\n",
       "    white-space: pre-wrap;\n",
       "    word-wrap: break-word;\n",
       "    word-break: break-all;\n",
       "    font-family: \"Source Code Pro\", \"Menlo\", monospace;;\n",
       "    font-size: 13px;\n",
       "    color: #555;\n",
       "    margin-left: 4px;\n",
       "    line-height: 19px;\n",
       "  }\n",
       "</style>\n",
       "<div class=\"ansiout\">+----+----------+\n",
       "name|math score|\n",
       "+----+----------+\n",
       " tom|        70|\n",
       " bob|       100|\n",
       " sam|        60|\n",
       " lee|        85|\n",
       " jun|        75|\n",
       "+----+----------+\n",
       "\n",
       "</div>"
      ]
     },
     "metadata": {
      "application/vnd.databricks.v1+output": {
       "addedWidgets": {},
       "arguments": {},
       "data": "<div class=\"ansiout\">+----+----------+\n|name|math score|\n+----+----------+\n| tom|        70|\n| bob|       100|\n| sam|        60|\n| lee|        85|\n| jun|        75|\n+----+----------+\n\n</div>",
       "datasetInfos": [
        {
         "name": "mathS_df",
         "schema": {
          "fields": [
           {
            "metadata": {},
            "name": "name",
            "nullable": true,
            "type": "string"
           },
           {
            "metadata": {},
            "name": "math score",
            "nullable": true,
            "type": "long"
           }
          ],
          "type": "struct"
         },
         "tableIdentifier": null,
         "typeStr": "pyspark.sql.dataframe.DataFrame"
        },
        {
         "name": "englishS_df",
         "schema": {
          "fields": [
           {
            "metadata": {},
            "name": "name",
            "nullable": true,
            "type": "string"
           },
           {
            "metadata": {},
            "name": "english score",
            "nullable": true,
            "type": "long"
           }
          ],
          "type": "struct"
         },
         "tableIdentifier": null,
         "typeStr": "pyspark.sql.dataframe.DataFrame"
        }
       ],
       "removedWidgets": [],
       "type": "html"
      }
     },
     "output_type": "display_data"
    }
   ],
   "source": [
    "mathS_df = mathS_df.withColumnRenamed('score', 'math score')\n",
    "englishS_df = englishS_df.withColumnRenamed('score', 'english score')\n",
    "mathS_df.show()"
   ]
  },
  {
   "cell_type": "code",
   "execution_count": 0,
   "metadata": {
    "application/vnd.databricks.v1+cell": {
     "inputWidgets": {},
     "nuid": "c5ec97d7-043e-4fa6-b53f-17f237c8d489",
     "showTitle": false,
     "title": ""
    }
   },
   "outputs": [
    {
     "data": {
      "text/html": [
       "<style scoped>\n",
       "  .ansiout {\n",
       "    display: block;\n",
       "    unicode-bidi: embed;\n",
       "    white-space: pre-wrap;\n",
       "    word-wrap: break-word;\n",
       "    word-break: break-all;\n",
       "    font-family: \"Source Code Pro\", \"Menlo\", monospace;;\n",
       "    font-size: 13px;\n",
       "    color: #555;\n",
       "    margin-left: 4px;\n",
       "    line-height: 19px;\n",
       "  }\n",
       "</style>\n",
       "<div class=\"ansiout\">+----+----------+----+-------------+\n",
       "name|math score|name|english score|\n",
       "+----+----------+----+-------------+\n",
       "null|      null|choi|           95|\n",
       "null|      null| kim|           90|\n",
       "+----+----------+----+-------------+\n",
       "\n",
       "</div>"
      ]
     },
     "metadata": {
      "application/vnd.databricks.v1+output": {
       "addedWidgets": {},
       "arguments": {},
       "data": "<div class=\"ansiout\">+----+----------+----+-------------+\n|name|math score|name|english score|\n+----+----------+----+-------------+\n|null|      null|choi|           95|\n|null|      null| kim|           90|\n+----+----------+----+-------------+\n\n</div>",
       "datasetInfos": [
        {
         "name": "mathS_df",
         "schema": {
          "fields": [
           {
            "metadata": {},
            "name": "name",
            "nullable": true,
            "type": "string"
           },
           {
            "metadata": {},
            "name": "math score",
            "nullable": true,
            "type": "long"
           }
          ],
          "type": "struct"
         },
         "tableIdentifier": null,
         "typeStr": "pyspark.sql.dataframe.DataFrame"
        },
        {
         "name": "englishS_df",
         "schema": {
          "fields": [
           {
            "metadata": {},
            "name": "name",
            "nullable": true,
            "type": "string"
           },
           {
            "metadata": {},
            "name": "english score",
            "nullable": true,
            "type": "long"
           }
          ],
          "type": "struct"
         },
         "tableIdentifier": null,
         "typeStr": "pyspark.sql.dataframe.DataFrame"
        },
        {
         "name": "join2",
         "schema": {
          "fields": [
           {
            "metadata": {},
            "name": "name",
            "nullable": true,
            "type": "string"
           },
           {
            "metadata": {},
            "name": "math score",
            "nullable": true,
            "type": "long"
           },
           {
            "metadata": {},
            "name": "name",
            "nullable": true,
            "type": "string"
           },
           {
            "metadata": {},
            "name": "english score",
            "nullable": true,
            "type": "long"
           }
          ],
          "type": "struct"
         },
         "tableIdentifier": null,
         "typeStr": "pyspark.sql.dataframe.DataFrame"
        }
       ],
       "removedWidgets": [],
       "type": "html"
      }
     },
     "output_type": "display_data"
    }
   ],
   "source": [
    "mathS_df = mathS_df.withColumnRenamed('score', 'math score')\n",
    "englishS_df = englishS_df.withColumnRenamed('score', 'english score')\n",
    "\n",
    "join2 = mathS_df.join(englishS_df, mathS_df.name == englishS_df.name, how='outer')\\\n",
    "                .filter(mathS_df.name.isNull())\n",
    "join2.show()"
   ]
  },
  {
   "cell_type": "code",
   "execution_count": 0,
   "metadata": {
    "application/vnd.databricks.v1+cell": {
     "inputWidgets": {},
     "nuid": "07a96f75-e261-45dd-92e8-05d96c41ae60",
     "showTitle": false,
     "title": ""
    }
   },
   "outputs": [
    {
     "data": {
      "text/html": [
       "<style scoped>\n",
       "  .ansiout {\n",
       "    display: block;\n",
       "    unicode-bidi: embed;\n",
       "    white-space: pre-wrap;\n",
       "    word-wrap: break-word;\n",
       "    word-break: break-all;\n",
       "    font-family: \"Source Code Pro\", \"Menlo\", monospace;;\n",
       "    font-size: 13px;\n",
       "    color: #555;\n",
       "    margin-left: 4px;\n",
       "    line-height: 19px;\n",
       "  }\n",
       "</style>\n",
       "<div class=\"ansiout\">+----+----------+----+-------------+\n",
       "name|math score|name|english score|\n",
       "+----+----------+----+-------------+\n",
       " bob|       100|null|         null|\n",
       "null|      null|choi|           95|\n",
       " jun|        75| jun|           67|\n",
       "null|      null| kim|           90|\n",
       " lee|        85|null|         null|\n",
       " sam|        60| sam|           88|\n",
       " tom|        70| tom|           55|\n",
       "+----+----------+----+-------------+\n",
       "\n",
       "</div>"
      ]
     },
     "metadata": {
      "application/vnd.databricks.v1+output": {
       "addedWidgets": {},
       "arguments": {},
       "data": "<div class=\"ansiout\">+----+----------+----+-------------+\n|name|math score|name|english score|\n+----+----------+----+-------------+\n| bob|       100|null|         null|\n|null|      null|choi|           95|\n| jun|        75| jun|           67|\n|null|      null| kim|           90|\n| lee|        85|null|         null|\n| sam|        60| sam|           88|\n| tom|        70| tom|           55|\n+----+----------+----+-------------+\n\n</div>",
       "datasetInfos": [],
       "removedWidgets": [],
       "type": "html"
      }
     },
     "output_type": "display_data"
    }
   ],
   "source": [
    "mathS_df.join(englishS_df, mathS_df.name == englishS_df.name, how='outer').show()"
   ]
  },
  {
   "cell_type": "code",
   "execution_count": 0,
   "metadata": {
    "application/vnd.databricks.v1+cell": {
     "inputWidgets": {},
     "nuid": "c34eea01-ad2c-4b16-9226-6e3869132b7a",
     "showTitle": false,
     "title": ""
    }
   },
   "outputs": [
    {
     "data": {
      "text/html": [
       "<style scoped>\n",
       "  .ansiout {\n",
       "    display: block;\n",
       "    unicode-bidi: embed;\n",
       "    white-space: pre-wrap;\n",
       "    word-wrap: break-word;\n",
       "    word-break: break-all;\n",
       "    font-family: \"Source Code Pro\", \"Menlo\", monospace;;\n",
       "    font-size: 13px;\n",
       "    color: #555;\n",
       "    margin-left: 4px;\n",
       "    line-height: 19px;\n",
       "  }\n",
       "</style>\n",
       "<div class=\"ansiout\"></div>"
      ]
     },
     "metadata": {
      "application/vnd.databricks.v1+output": {
       "addedWidgets": {},
       "arguments": {},
       "data": "<div class=\"ansiout\"></div>",
       "datasetInfos": [],
       "removedWidgets": [],
       "type": "html"
      }
     },
     "output_type": "display_data"
    }
   ],
   "source": [
    "#12주차"
   ]
  },
  {
   "cell_type": "code",
   "execution_count": 0,
   "metadata": {
    "application/vnd.databricks.v1+cell": {
     "inputWidgets": {},
     "nuid": "b3c1eefe-9616-4a22-a092-2fd15067545a",
     "showTitle": false,
     "title": ""
    }
   },
   "outputs": [
    {
     "data": {
      "text/html": [
       "<style scoped>\n",
       "  .ansiout {\n",
       "    display: block;\n",
       "    unicode-bidi: embed;\n",
       "    white-space: pre-wrap;\n",
       "    word-wrap: break-word;\n",
       "    word-break: break-all;\n",
       "    font-family: \"Source Code Pro\", \"Menlo\", monospace;;\n",
       "    font-size: 13px;\n",
       "    color: #555;\n",
       "    margin-left: 4px;\n",
       "    line-height: 19px;\n",
       "  }\n",
       "</style>\n",
       "<div class=\"ansiout\">+----+----+-----+---+-------+\n",
       "name|year|month|day|   city|\n",
       "+----+----+-----+---+-------+\n",
       " tom|1996|    7| 21|  seoul|\n",
       " sam|1994|    1| 20|  busan|\n",
       " bob|2000|   12| 11|  seoul|\n",
       " kim|2002|    6|  8|daejeon|\n",
       " lee|1998|    2| 10|  busan|\n",
       "+----+----+-----+---+-------+\n",
       "\n",
       "</div>"
      ]
     },
     "metadata": {
      "application/vnd.databricks.v1+output": {
       "addedWidgets": {},
       "arguments": {},
       "data": "<div class=\"ansiout\">+----+----+-----+---+-------+\n|name|year|month|day|   city|\n+----+----+-----+---+-------+\n| tom|1996|    7| 21|  seoul|\n| sam|1994|    1| 20|  busan|\n| bob|2000|   12| 11|  seoul|\n| kim|2002|    6|  8|daejeon|\n| lee|1998|    2| 10|  busan|\n+----+----+-----+---+-------+\n\n</div>",
       "datasetInfos": [
        {
         "name": "birth_df",
         "schema": {
          "fields": [
           {
            "metadata": {},
            "name": "name",
            "nullable": true,
            "type": "string"
           },
           {
            "metadata": {},
            "name": "year",
            "nullable": true,
            "type": "string"
           },
           {
            "metadata": {},
            "name": "month",
            "nullable": true,
            "type": "string"
           },
           {
            "metadata": {},
            "name": "day",
            "nullable": true,
            "type": "string"
           },
           {
            "metadata": {},
            "name": "city",
            "nullable": true,
            "type": "string"
           }
          ],
          "type": "struct"
         },
         "tableIdentifier": null,
         "typeStr": "pyspark.sql.dataframe.DataFrame"
        }
       ],
       "removedWidgets": [],
       "type": "html"
      }
     },
     "output_type": "display_data"
    }
   ],
   "source": [
    "from pyspark.sql import Row\n",
    "\n",
    "birth_rdd = sc.textFile('/FileStore/tables/birth.txt')\n",
    "birth_split = birth_rdd.map(lambda x : x.split(\"/\"))\n",
    "birth_row = birth_split.map(lambda x : Row(name=x[0], year=x[1], month=x[2], day=x[3], city=x[4]))\n",
    "\n",
    "birth_df = sqlContext.createDataFrame(birth_row)\n",
    "birth_df.show()"
   ]
  },
  {
   "cell_type": "code",
   "execution_count": 0,
   "metadata": {
    "application/vnd.databricks.v1+cell": {
     "inputWidgets": {},
     "nuid": "f9c04302-78ab-49b5-928f-15b7cb7091f3",
     "showTitle": false,
     "title": ""
    }
   },
   "outputs": [
    {
     "data": {
      "text/html": [
       "<style scoped>\n",
       "  .ansiout {\n",
       "    display: block;\n",
       "    unicode-bidi: embed;\n",
       "    white-space: pre-wrap;\n",
       "    word-wrap: break-word;\n",
       "    word-break: break-all;\n",
       "    font-family: \"Source Code Pro\", \"Menlo\", monospace;;\n",
       "    font-size: 13px;\n",
       "    color: #555;\n",
       "    margin-left: 4px;\n",
       "    line-height: 19px;\n",
       "  }\n",
       "</style>\n",
       "<div class=\"ansiout\">+---+---------+----------+----------+------+-------------------+-----------+------+\n",
       " id|firstName|middleName|  lastName|gender|          birthDate|        ssn|salary|\n",
       "+---+---------+----------+----------+------+-------------------+-----------+------+\n",
       "  1|   Pennie|     Carry|Hirschmann|     F|1955-07-02 04:00:00|981-43-9345| 56172|\n",
       "  2|       An|     Amira|    Cowper|     F|1992-02-08 05:00:00|978-97-8086| 40203|\n",
       "  3|    Quyen|    Marlen|      Dome|     F|1970-10-11 04:00:00|957-57-8246| 53417|\n",
       "  4|  Coralie|  Antonina|   Marshal|     F|1990-04-11 04:00:00|963-39-4885| 94727|\n",
       "  5|   Terrie|      Wava|     Bonar|     F|1980-01-16 05:00:00|964-49-8051| 79908|\n",
       "+---+---------+----------+----------+------+-------------------+-----------+------+\n",
       "only showing top 5 rows\n",
       "\n",
       "</div>"
      ]
     },
     "metadata": {
      "application/vnd.databricks.v1+output": {
       "addedWidgets": {},
       "arguments": {},
       "data": "<div class=\"ansiout\">+---+---------+----------+----------+------+-------------------+-----------+------+\n| id|firstName|middleName|  lastName|gender|          birthDate|        ssn|salary|\n+---+---------+----------+----------+------+-------------------+-----------+------+\n|  1|   Pennie|     Carry|Hirschmann|     F|1955-07-02 04:00:00|981-43-9345| 56172|\n|  2|       An|     Amira|    Cowper|     F|1992-02-08 05:00:00|978-97-8086| 40203|\n|  3|    Quyen|    Marlen|      Dome|     F|1970-10-11 04:00:00|957-57-8246| 53417|\n|  4|  Coralie|  Antonina|   Marshal|     F|1990-04-11 04:00:00|963-39-4885| 94727|\n|  5|   Terrie|      Wava|     Bonar|     F|1980-01-16 05:00:00|964-49-8051| 79908|\n+---+---------+----------+----------+------+-------------------+-----------+------+\nonly showing top 5 rows\n\n</div>",
       "datasetInfos": [
        {
         "name": "peopleDF",
         "schema": {
          "fields": [
           {
            "metadata": {},
            "name": "id",
            "nullable": true,
            "type": "integer"
           },
           {
            "metadata": {},
            "name": "firstName",
            "nullable": true,
            "type": "string"
           },
           {
            "metadata": {},
            "name": "middleName",
            "nullable": true,
            "type": "string"
           },
           {
            "metadata": {},
            "name": "lastName",
            "nullable": true,
            "type": "string"
           },
           {
            "metadata": {},
            "name": "gender",
            "nullable": true,
            "type": "string"
           },
           {
            "metadata": {},
            "name": "birthDate",
            "nullable": true,
            "type": "timestamp"
           },
           {
            "metadata": {},
            "name": "ssn",
            "nullable": true,
            "type": "string"
           },
           {
            "metadata": {},
            "name": "salary",
            "nullable": true,
            "type": "integer"
           }
          ],
          "type": "struct"
         },
         "tableIdentifier": null,
         "typeStr": "pyspark.sql.dataframe.DataFrame"
        }
       ],
       "removedWidgets": [],
       "type": "html"
      }
     },
     "output_type": "display_data"
    }
   ],
   "source": [
    "peopleDF= spark.read.parquet(\"/FileStore/tables/people-parquet\")\n",
    "peopleDF.show(5)"
   ]
  },
  {
   "cell_type": "code",
   "execution_count": 0,
   "metadata": {
    "application/vnd.databricks.v1+cell": {
     "inputWidgets": {},
     "nuid": "ec98b17b-bb30-4ef9-b0f7-23bfcffd57b4",
     "showTitle": false,
     "title": ""
    }
   },
   "outputs": [
    {
     "data": {
      "text/html": [
       "<style scoped>\n",
       "  .ansiout {\n",
       "    display: block;\n",
       "    unicode-bidi: embed;\n",
       "    white-space: pre-wrap;\n",
       "    word-wrap: break-word;\n",
       "    word-break: break-all;\n",
       "    font-family: \"Source Code Pro\", \"Menlo\", monospace;;\n",
       "    font-size: 13px;\n",
       "    color: #555;\n",
       "    margin-left: 4px;\n",
       "    line-height: 19px;\n",
       "  }\n",
       "</style>\n",
       "<div class=\"ansiout\">+---+---------+----------+--------+------+-------------------+-----------+------+----------+\n",
       " id|firstName|middleName|lastName|gender|          birthDate|        ssn|salary|new_salary|\n",
       "+---+---------+----------+--------+------+-------------------+-----------+------+----------+\n",
       "317|  Shirley|    Deidre|  Pikhno|     F|1979-11-14 05:00:00|919-31-6376| 11393|   12532.0|\n",
       "354| Samantha|      Rema|   Worms|     F|1970-02-22 05:00:00|943-84-9242| 19249|   21174.0|\n",
       "381|  Eugenie|    Shonna|Doonican|     F|1989-01-25 05:00:00|954-16-8896|  6523|    7175.0|\n",
       "468|   Tarsha|      Lina|   Halse|     F|1992-09-11 04:00:00|956-34-7851| 18105|   19916.0|\n",
       "973|  Kirstie|   Breanne| Bulfoot|     F|1979-05-20 04:00:00|970-44-3658|  8451|    9296.0|\n",
       "+---+---------+----------+--------+------+-------------------+-----------+------+----------+\n",
       "only showing top 5 rows\n",
       "\n",
       "</div>"
      ]
     },
     "metadata": {
      "application/vnd.databricks.v1+output": {
       "addedWidgets": {},
       "arguments": {},
       "data": "<div class=\"ansiout\">+---+---------+----------+--------+------+-------------------+-----------+------+----------+\n| id|firstName|middleName|lastName|gender|          birthDate|        ssn|salary|new_salary|\n+---+---------+----------+--------+------+-------------------+-----------+------+----------+\n|317|  Shirley|    Deidre|  Pikhno|     F|1979-11-14 05:00:00|919-31-6376| 11393|   12532.0|\n|354| Samantha|      Rema|   Worms|     F|1970-02-22 05:00:00|943-84-9242| 19249|   21174.0|\n|381|  Eugenie|    Shonna|Doonican|     F|1989-01-25 05:00:00|954-16-8896|  6523|    7175.0|\n|468|   Tarsha|      Lina|   Halse|     F|1992-09-11 04:00:00|956-34-7851| 18105|   19916.0|\n|973|  Kirstie|   Breanne| Bulfoot|     F|1979-05-20 04:00:00|970-44-3658|  8451|    9296.0|\n+---+---------+----------+--------+------+-------------------+-----------+------+----------+\nonly showing top 5 rows\n\n</div>",
       "datasetInfos": [],
       "removedWidgets": [],
       "type": "html"
      }
     },
     "output_type": "display_data"
    }
   ],
   "source": [
    "import pyspark.sql.functions as f\n",
    "\n",
    "peopleDF.filter(\"salary<=20000\")\\\n",
    "        .withColumn(\"salary\", f.abs(f.col(\"salary\")))\\\n",
    "        .withColumn(\"new_salary\", f.round(f.col(\"salary\")*1.1)).show(5)"
   ]
  },
  {
   "cell_type": "code",
   "execution_count": 0,
   "metadata": {
    "application/vnd.databricks.v1+cell": {
     "inputWidgets": {},
     "nuid": "e155e3a5-59a5-496f-9ab6-446cd65b2aa4",
     "showTitle": false,
     "title": ""
    }
   },
   "outputs": [
    {
     "data": {
      "text/html": [
       "<style scoped>\n",
       "  .ansiout {\n",
       "    display: block;\n",
       "    unicode-bidi: embed;\n",
       "    white-space: pre-wrap;\n",
       "    word-wrap: break-word;\n",
       "    word-break: break-all;\n",
       "    font-family: \"Source Code Pro\", \"Menlo\", monospace;;\n",
       "    font-size: 13px;\n",
       "    color: #555;\n",
       "    margin-left: 4px;\n",
       "    line-height: 19px;\n",
       "  }\n",
       "</style>\n",
       "<div class=\"ansiout\">+---+---------+----------+--------+------+-------------------+-----------+------+\n",
       " id|firstName|middleName|lastName|gender|          birthDate|        ssn|salary|\n",
       "+---+---------+----------+--------+------+-------------------+-----------+------+\n",
       "317|  Shirley|    Deidre|  Pikhno|     F|1979-11-14 05:00:00|919-31-6376| 11393|\n",
       "354| Samantha|      Rema|   Worms|     F|1970-02-22 05:00:00|943-84-9242| 19249|\n",
       "381|  Eugenie|    Shonna|Doonican|     F|1989-01-25 05:00:00|954-16-8896| -6523|\n",
       "468|   Tarsha|      Lina|   Halse|     F|1992-09-11 04:00:00|956-34-7851| 18105|\n",
       "973|  Kirstie|   Breanne| Bulfoot|     F|1979-05-20 04:00:00|970-44-3658|  8451|\n",
       "+---+---------+----------+--------+------+-------------------+-----------+------+\n",
       "only showing top 5 rows\n",
       "\n",
       "</div>"
      ]
     },
     "metadata": {
      "application/vnd.databricks.v1+output": {
       "addedWidgets": {},
       "arguments": {},
       "data": "<div class=\"ansiout\">+---+---------+----------+--------+------+-------------------+-----------+------+\n| id|firstName|middleName|lastName|gender|          birthDate|        ssn|salary|\n+---+---------+----------+--------+------+-------------------+-----------+------+\n|317|  Shirley|    Deidre|  Pikhno|     F|1979-11-14 05:00:00|919-31-6376| 11393|\n|354| Samantha|      Rema|   Worms|     F|1970-02-22 05:00:00|943-84-9242| 19249|\n|381|  Eugenie|    Shonna|Doonican|     F|1989-01-25 05:00:00|954-16-8896| -6523|\n|468|   Tarsha|      Lina|   Halse|     F|1992-09-11 04:00:00|956-34-7851| 18105|\n|973|  Kirstie|   Breanne| Bulfoot|     F|1979-05-20 04:00:00|970-44-3658|  8451|\n+---+---------+----------+--------+------+-------------------+-----------+------+\nonly showing top 5 rows\n\n</div>",
       "datasetInfos": [],
       "removedWidgets": [],
       "type": "html"
      }
     },
     "output_type": "display_data"
    }
   ],
   "source": [
    "peopleDF.filter(\"salary<=20000\").show(5)"
   ]
  },
  {
   "cell_type": "code",
   "execution_count": 0,
   "metadata": {
    "application/vnd.databricks.v1+cell": {
     "inputWidgets": {},
     "nuid": "f7a390b8-98cf-4200-9e60-00e308a66063",
     "showTitle": false,
     "title": ""
    }
   },
   "outputs": [
    {
     "data": {
      "text/html": [
       "<style scoped>\n",
       "  .ansiout {\n",
       "    display: block;\n",
       "    unicode-bidi: embed;\n",
       "    white-space: pre-wrap;\n",
       "    word-wrap: break-word;\n",
       "    word-break: break-all;\n",
       "    font-family: \"Source Code Pro\", \"Menlo\", monospace;;\n",
       "    font-size: 13px;\n",
       "    color: #555;\n",
       "    margin-left: 4px;\n",
       "    line-height: 19px;\n",
       "  }\n",
       "</style>\n",
       "<div class=\"ansiout\">+---+---------+----------+--------+------+-------------------+-----------+------+\n",
       " id|firstName|middleName|lastName|gender|          birthDate|        ssn|salary|\n",
       "+---+---------+----------+--------+------+-------------------+-----------+------+\n",
       "317|  Shirley|    Deidre|  Pikhno|     F|1979-11-14 05:00:00|919-31-6376| 11393|\n",
       "354| Samantha|      Rema|   Worms|     F|1970-02-22 05:00:00|943-84-9242| 19249|\n",
       "381|  Eugenie|    Shonna|Doonican|     F|1989-01-25 05:00:00|954-16-8896|  6523|\n",
       "468|   Tarsha|      Lina|   Halse|     F|1992-09-11 04:00:00|956-34-7851| 18105|\n",
       "973|  Kirstie|   Breanne| Bulfoot|     F|1979-05-20 04:00:00|970-44-3658|  8451|\n",
       "+---+---------+----------+--------+------+-------------------+-----------+------+\n",
       "only showing top 5 rows\n",
       "\n",
       "</div>"
      ]
     },
     "metadata": {
      "application/vnd.databricks.v1+output": {
       "addedWidgets": {},
       "arguments": {},
       "data": "<div class=\"ansiout\">+---+---------+----------+--------+------+-------------------+-----------+------+\n| id|firstName|middleName|lastName|gender|          birthDate|        ssn|salary|\n+---+---------+----------+--------+------+-------------------+-----------+------+\n|317|  Shirley|    Deidre|  Pikhno|     F|1979-11-14 05:00:00|919-31-6376| 11393|\n|354| Samantha|      Rema|   Worms|     F|1970-02-22 05:00:00|943-84-9242| 19249|\n|381|  Eugenie|    Shonna|Doonican|     F|1989-01-25 05:00:00|954-16-8896|  6523|\n|468|   Tarsha|      Lina|   Halse|     F|1992-09-11 04:00:00|956-34-7851| 18105|\n|973|  Kirstie|   Breanne| Bulfoot|     F|1979-05-20 04:00:00|970-44-3658|  8451|\n+---+---------+----------+--------+------+-------------------+-----------+------+\nonly showing top 5 rows\n\n</div>",
       "datasetInfos": [],
       "removedWidgets": [],
       "type": "html"
      }
     },
     "output_type": "display_data"
    }
   ],
   "source": [
    "peopleDF.filter(\"salary<=20000\")\\\n",
    "        .withColumn(\"salary\", f.abs(f.col(\"salary\"))).show(5)"
   ]
  },
  {
   "cell_type": "code",
   "execution_count": 0,
   "metadata": {
    "application/vnd.databricks.v1+cell": {
     "inputWidgets": {},
     "nuid": "9697d6a3-5960-46c3-8e24-6d5609318510",
     "showTitle": false,
     "title": ""
    }
   },
   "outputs": [
    {
     "data": {
      "text/html": [
       "<style scoped>\n",
       "  .ansiout {\n",
       "    display: block;\n",
       "    unicode-bidi: embed;\n",
       "    white-space: pre-wrap;\n",
       "    word-wrap: break-word;\n",
       "    word-break: break-all;\n",
       "    font-family: \"Source Code Pro\", \"Menlo\", monospace;;\n",
       "    font-size: 13px;\n",
       "    color: #555;\n",
       "    margin-left: 4px;\n",
       "    line-height: 19px;\n",
       "  }\n",
       "</style>\n",
       "<div class=\"ansiout\">+---+---------+----------+--------+------+-------------------+-----------+------+----------+\n",
       " id|firstName|middleName|lastName|gender|          birthDate|        ssn|salary|new_salary|\n",
       "+---+---------+----------+--------+------+-------------------+-----------+------+----------+\n",
       "317|  Shirley|    Deidre|  Pikhno|     F|1979-11-14 05:00:00|919-31-6376| 11393|   12532.0|\n",
       "354| Samantha|      Rema|   Worms|     F|1970-02-22 05:00:00|943-84-9242| 19249|   21174.0|\n",
       "381|  Eugenie|    Shonna|Doonican|     F|1989-01-25 05:00:00|954-16-8896|  6523|    7175.0|\n",
       "468|   Tarsha|      Lina|   Halse|     F|1992-09-11 04:00:00|956-34-7851| 18105|   19916.0|\n",
       "973|  Kirstie|   Breanne| Bulfoot|     F|1979-05-20 04:00:00|970-44-3658|  8451|    9296.0|\n",
       "+---+---------+----------+--------+------+-------------------+-----------+------+----------+\n",
       "only showing top 5 rows\n",
       "\n",
       "</div>"
      ]
     },
     "metadata": {
      "application/vnd.databricks.v1+output": {
       "addedWidgets": {},
       "arguments": {},
       "data": "<div class=\"ansiout\">+---+---------+----------+--------+------+-------------------+-----------+------+----------+\n| id|firstName|middleName|lastName|gender|          birthDate|        ssn|salary|new_salary|\n+---+---------+----------+--------+------+-------------------+-----------+------+----------+\n|317|  Shirley|    Deidre|  Pikhno|     F|1979-11-14 05:00:00|919-31-6376| 11393|   12532.0|\n|354| Samantha|      Rema|   Worms|     F|1970-02-22 05:00:00|943-84-9242| 19249|   21174.0|\n|381|  Eugenie|    Shonna|Doonican|     F|1989-01-25 05:00:00|954-16-8896|  6523|    7175.0|\n|468|   Tarsha|      Lina|   Halse|     F|1992-09-11 04:00:00|956-34-7851| 18105|   19916.0|\n|973|  Kirstie|   Breanne| Bulfoot|     F|1979-05-20 04:00:00|970-44-3658|  8451|    9296.0|\n+---+---------+----------+--------+------+-------------------+-----------+------+----------+\nonly showing top 5 rows\n\n</div>",
       "datasetInfos": [],
       "removedWidgets": [],
       "type": "html"
      }
     },
     "output_type": "display_data"
    }
   ],
   "source": [
    "peopleDF.filter(\"salary<=20000\")\\\n",
    "        .withColumn(\"salary\", f.abs(f.col(\"salary\")))\\\n",
    "        .withColumn(\"new_salary\", f.round(f.col(\"salary\")*1.1)).show(5)"
   ]
  },
  {
   "cell_type": "code",
   "execution_count": 0,
   "metadata": {
    "application/vnd.databricks.v1+cell": {
     "inputWidgets": {},
     "nuid": "82e01cd4-7b08-4f7a-8436-26ecfba76fab",
     "showTitle": false,
     "title": ""
    }
   },
   "outputs": [
    {
     "data": {
      "text/html": [
       "<style scoped>\n",
       "  .ansiout {\n",
       "    display: block;\n",
       "    unicode-bidi: embed;\n",
       "    white-space: pre-wrap;\n",
       "    word-wrap: break-word;\n",
       "    word-break: break-all;\n",
       "    font-family: \"Source Code Pro\", \"Menlo\", monospace;;\n",
       "    font-size: 13px;\n",
       "    color: #555;\n",
       "    margin-left: 4px;\n",
       "    line-height: 19px;\n",
       "  }\n",
       "</style>\n",
       "<div class=\"ansiout\">+-----------+-----------+-------------+\n",
       "max(salary)|min(salary)|averageSalary|\n",
       "+-----------+-----------+-------------+\n",
       "     180841|      30000|      73471.0|\n",
       "+-----------+-----------+-------------+\n",
       "\n",
       "</div>"
      ]
     },
     "metadata": {
      "application/vnd.databricks.v1+output": {
       "addedWidgets": {},
       "arguments": {},
       "data": "<div class=\"ansiout\">+-----------+-----------+-------------+\n|max(salary)|min(salary)|averageSalary|\n+-----------+-----------+-------------+\n|     180841|      30000|      73471.0|\n+-----------+-----------+-------------+\n\n</div>",
       "datasetInfos": [],
       "removedWidgets": [],
       "type": "html"
      }
     },
     "output_type": "display_data"
    }
   ],
   "source": [
    "import pyspark.sql.functions as f\n",
    "\n",
    "peopleDF.filter('salary>=30000')\\\n",
    "        .select(f.max(\"salary\"), f.min(\"salary\"),\n",
    "                f.round(f.avg(\"salary\")).alias(\"averageSalary\")).show()"
   ]
  },
  {
   "cell_type": "code",
   "execution_count": 0,
   "metadata": {
    "application/vnd.databricks.v1+cell": {
     "inputWidgets": {},
     "nuid": "91469cef-4dce-4a8f-ba69-1b374bc3c3c5",
     "showTitle": false,
     "title": ""
    }
   },
   "outputs": [
    {
     "data": {
      "text/html": [
       "<style scoped>\n",
       "  .ansiout {\n",
       "    display: block;\n",
       "    unicode-bidi: embed;\n",
       "    white-space: pre-wrap;\n",
       "    word-wrap: break-word;\n",
       "    word-break: break-all;\n",
       "    font-family: \"Source Code Pro\", \"Menlo\", monospace;;\n",
       "    font-size: 13px;\n",
       "    color: #555;\n",
       "    margin-left: 4px;\n",
       "    line-height: 19px;\n",
       "  }\n",
       "</style>\n",
       "<div class=\"ansiout\">+-----------+------+-----+----------+\n",
       "   lastName|gender|count|max salary|\n",
       "+-----------+------+-----+----------+\n",
       "     Aliman|     F|  115|    130786|\n",
       "Fareweather|     F|  110|    113598|\n",
       "       Vick|     F|   95|    132846|\n",
       "     Aulton|     F|   96|    112703|\n",
       "     Godmer|     F|   96|    120555|\n",
       "+-----------+------+-----+----------+\n",
       "only showing top 5 rows\n",
       "\n",
       "</div>"
      ]
     },
     "metadata": {
      "application/vnd.databricks.v1+output": {
       "addedWidgets": {},
       "arguments": {},
       "data": "<div class=\"ansiout\">+-----------+------+-----+----------+\n|   lastName|gender|count|max salary|\n+-----------+------+-----+----------+\n|     Aliman|     F|  115|    130786|\n|Fareweather|     F|  110|    113598|\n|       Vick|     F|   95|    132846|\n|     Aulton|     F|   96|    112703|\n|     Godmer|     F|   96|    120555|\n+-----------+------+-----+----------+\nonly showing top 5 rows\n\n</div>",
       "datasetInfos": [],
       "removedWidgets": [],
       "type": "html"
      }
     },
     "output_type": "display_data"
    }
   ],
   "source": [
    "import pyspark.sql.functions as f\n",
    "\n",
    "peopleDF.groupBy('lastName','gender')\\\n",
    "        .agg(f.count('*').alias('count'), f.max('salary').alias('max salary'))\\\n",
    "        .show(5)"
   ]
  },
  {
   "cell_type": "code",
   "execution_count": 0,
   "metadata": {
    "application/vnd.databricks.v1+cell": {
     "inputWidgets": {},
     "nuid": "34c192d1-cc1c-4832-be42-adefb358078e",
     "showTitle": false,
     "title": ""
    }
   },
   "outputs": [
    {
     "data": {
      "text/html": [
       "<style scoped>\n",
       "  .ansiout {\n",
       "    display: block;\n",
       "    unicode-bidi: embed;\n",
       "    white-space: pre-wrap;\n",
       "    word-wrap: break-word;\n",
       "    word-break: break-all;\n",
       "    font-family: \"Source Code Pro\", \"Menlo\", monospace;;\n",
       "    font-size: 13px;\n",
       "    color: #555;\n",
       "    margin-left: 4px;\n",
       "    line-height: 19px;\n",
       "  }\n",
       "</style>\n",
       "<div class=\"ansiout\"></div>"
      ]
     },
     "metadata": {
      "application/vnd.databricks.v1+output": {
       "addedWidgets": {},
       "arguments": {},
       "data": "<div class=\"ansiout\"></div>",
       "datasetInfos": [],
       "removedWidgets": [],
       "type": "html"
      }
     },
     "output_type": "display_data"
    }
   ],
   "source": [
    "# 13주차"
   ]
  },
  {
   "cell_type": "code",
   "execution_count": 0,
   "metadata": {
    "application/vnd.databricks.v1+cell": {
     "inputWidgets": {},
     "nuid": "d9632c52-be3c-4f24-99f5-97a103063f4d",
     "showTitle": false,
     "title": ""
    }
   },
   "outputs": [
    {
     "data": {
      "text/html": [
       "<style scoped>\n",
       "  .ansiout {\n",
       "    display: block;\n",
       "    unicode-bidi: embed;\n",
       "    white-space: pre-wrap;\n",
       "    word-wrap: break-word;\n",
       "    word-break: break-all;\n",
       "    font-family: \"Source Code Pro\", \"Menlo\", monospace;;\n",
       "    font-size: 13px;\n",
       "    color: #555;\n",
       "    margin-left: 4px;\n",
       "    line-height: 19px;\n",
       "  }\n",
       "</style>\n",
       "<div class=\"ansiout\"></div>"
      ]
     },
     "metadata": {
      "application/vnd.databricks.v1+output": {
       "addedWidgets": {},
       "arguments": {},
       "data": "<div class=\"ansiout\"></div>",
       "datasetInfos": [
        {
         "name": "crimeDataNewYork",
         "schema": {
          "fields": [
           {
            "metadata": {},
            "name": "complaintNumber",
            "nullable": true,
            "type": "integer"
           },
           {
            "metadata": {},
            "name": "keyCode",
            "nullable": true,
            "type": "integer"
           },
           {
            "metadata": {},
            "name": "offenseDescription",
            "nullable": true,
            "type": "string"
           },
           {
            "metadata": {},
            "name": "policeDeptCode",
            "nullable": true,
            "type": "integer"
           },
           {
            "metadata": {},
            "name": "policeDeptDescription",
            "nullable": true,
            "type": "string"
           },
           {
            "metadata": {},
            "name": "lawCategoryCode",
            "nullable": true,
            "type": "string"
           },
           {
            "metadata": {},
            "name": "jurisdictionDesc",
            "nullable": true,
            "type": "string"
           },
           {
            "metadata": {},
            "name": "borough",
            "nullable": true,
            "type": "string"
           },
           {
            "metadata": {},
            "name": "precinct",
            "nullable": true,
            "type": "integer"
           },
           {
            "metadata": {},
            "name": "locationOfOccurrenceDesc",
            "nullable": true,
            "type": "string"
           },
           {
            "metadata": {},
            "name": "premiseTypeDesc",
            "nullable": true,
            "type": "string"
           },
           {
            "metadata": {},
            "name": "latitude",
            "nullable": true,
            "type": "double"
           },
           {
            "metadata": {},
            "name": "longitude",
            "nullable": true,
            "type": "double"
           },
           {
            "metadata": {},
            "name": "fromDate",
            "nullable": true,
            "type": "timestamp"
           },
           {
            "metadata": {},
            "name": "fromTime",
            "nullable": true,
            "type": "timestamp"
           },
           {
            "metadata": {},
            "name": "toDate",
            "nullable": true,
            "type": "timestamp"
           },
           {
            "metadata": {},
            "name": "toTime",
            "nullable": true,
            "type": "timestamp"
           },
           {
            "metadata": {},
            "name": "reportDate",
            "nullable": true,
            "type": "timestamp"
           }
          ],
          "type": "struct"
         },
         "tableIdentifier": null,
         "typeStr": "pyspark.sql.dataframe.DataFrame"
        },
        {
         "name": "crimeDataBoston",
         "schema": {
          "fields": [
           {
            "metadata": {},
            "name": "INCIDENT_NUMBER",
            "nullable": true,
            "type": "string"
           },
           {
            "metadata": {},
            "name": "OFFENSE_CODE",
            "nullable": true,
            "type": "integer"
           },
           {
            "metadata": {},
            "name": "OFFENSE_CODE_GROUP",
            "nullable": true,
            "type": "string"
           },
           {
            "metadata": {},
            "name": "OFFENSE_DESCRIPTION",
            "nullable": true,
            "type": "string"
           },
           {
            "metadata": {},
            "name": "DISTRICT",
            "nullable": true,
            "type": "string"
           },
           {
            "metadata": {},
            "name": "REPORTING_AREA",
            "nullable": true,
            "type": "string"
           },
           {
            "metadata": {},
            "name": "SHOOTING",
            "nullable": true,
            "type": "string"
           },
           {
            "metadata": {},
            "name": "OCCURRED_ON_DATE",
            "nullable": true,
            "type": "timestamp"
           },
           {
            "metadata": {},
            "name": "YEAR",
            "nullable": true,
            "type": "integer"
           },
           {
            "metadata": {},
            "name": "MONTH",
            "nullable": true,
            "type": "integer"
           },
           {
            "metadata": {},
            "name": "DAY_OF_WEEK",
            "nullable": true,
            "type": "string"
           },
           {
            "metadata": {},
            "name": "HOUR",
            "nullable": true,
            "type": "integer"
           },
           {
            "metadata": {},
            "name": "UCR_PART",
            "nullable": true,
            "type": "string"
           },
           {
            "metadata": {},
            "name": "STREET",
            "nullable": true,
            "type": "string"
           },
           {
            "metadata": {},
            "name": "LATITUDE",
            "nullable": true,
            "type": "double"
           },
           {
            "metadata": {},
            "name": "LONGITUDE",
            "nullable": true,
            "type": "double"
           },
           {
            "metadata": {},
            "name": "LOCATION",
            "nullable": true,
            "type": "string"
           }
          ],
          "type": "struct"
         },
         "tableIdentifier": null,
         "typeStr": "pyspark.sql.dataframe.DataFrame"
        },
        {
         "name": "crimeDataChicago",
         "schema": {
          "fields": [
           {
            "metadata": {},
            "name": "id",
            "nullable": true,
            "type": "integer"
           },
           {
            "metadata": {},
            "name": "caseNumber",
            "nullable": true,
            "type": "string"
           },
           {
            "metadata": {},
            "name": "block",
            "nullable": true,
            "type": "string"
           },
           {
            "metadata": {},
            "name": "iucr",
            "nullable": true,
            "type": "string"
           },
           {
            "metadata": {},
            "name": "primaryType",
            "nullable": true,
            "type": "string"
           },
           {
            "metadata": {},
            "name": "description",
            "nullable": true,
            "type": "string"
           },
           {
            "metadata": {},
            "name": "locationDescription",
            "nullable": true,
            "type": "string"
           },
           {
            "metadata": {},
            "name": "arrest",
            "nullable": true,
            "type": "boolean"
           },
           {
            "metadata": {},
            "name": "domestic",
            "nullable": true,
            "type": "boolean"
           },
           {
            "metadata": {},
            "name": "beat",
            "nullable": true,
            "type": "integer"
           },
           {
            "metadata": {},
            "name": "district",
            "nullable": true,
            "type": "integer"
           },
           {
            "metadata": {},
            "name": "ward",
            "nullable": true,
            "type": "integer"
           },
           {
            "metadata": {},
            "name": "communityArea",
            "nullable": true,
            "type": "integer"
           },
           {
            "metadata": {},
            "name": "fbiCode",
            "nullable": true,
            "type": "string"
           },
           {
            "metadata": {},
            "name": "xCoordinate",
            "nullable": true,
            "type": "integer"
           },
           {
            "metadata": {},
            "name": "yCoordinate",
            "nullable": true,
            "type": "integer"
           },
           {
            "metadata": {},
            "name": "year",
            "nullable": true,
            "type": "integer"
           },
           {
            "metadata": {},
            "name": "updatedOn",
            "nullable": true,
            "type": "string"
           },
           {
            "metadata": {},
            "name": "latitude",
            "nullable": true,
            "type": "double"
           },
           {
            "metadata": {},
            "name": "longitude",
            "nullable": true,
            "type": "double"
           },
           {
            "metadata": {},
            "name": "location",
            "nullable": true,
            "type": "string"
           },
           {
            "metadata": {},
            "name": "date",
            "nullable": true,
            "type": "timestamp"
           }
          ],
          "type": "struct"
         },
         "tableIdentifier": null,
         "typeStr": "pyspark.sql.dataframe.DataFrame"
        }
       ],
       "removedWidgets": [],
       "type": "html"
      }
     },
     "output_type": "display_data"
    }
   ],
   "source": [
    "crimeDataNewYork = spark.read.parquet(\"/FileStore/tables/crime_data/Crime-Data-New-York-2016.parquet\")\n",
    "crimeDataBoston = spark.read.parquet(\"/FileStore/tables/crime_data/Crime-Data-Boston-2016.parquet\")\n",
    "crimeDataChicago = spark.read.parquet(\"/FileStore/tables/crime_data/Crime-Data-Chicago-2016.parquet\")"
   ]
  },
  {
   "cell_type": "code",
   "execution_count": 1,
   "metadata": {
    "application/vnd.databricks.v1+cell": {
     "inputWidgets": {},
     "nuid": "d79e9ffd-cb34-48a7-bb75-33d2c45529ac",
     "showTitle": false,
     "title": ""
    }
   },
   "outputs": [
    {
     "ename": "NameError",
     "evalue": "name 'crimeDataNewYork' is not defined",
     "output_type": "error",
     "traceback": [
      "\u001b[1;31m---------------------------------------------------------------------------\u001b[0m",
      "\u001b[1;31mNameError\u001b[0m                                 Traceback (most recent call last)",
      "\u001b[1;32m<ipython-input-1-04782e2eef00>\u001b[0m in \u001b[0;36m<module>\u001b[1;34m\u001b[0m\n\u001b[0;32m      1\u001b[0m \u001b[1;32mfrom\u001b[0m \u001b[0mpyspark\u001b[0m\u001b[1;33m.\u001b[0m\u001b[0msql\u001b[0m\u001b[1;33m.\u001b[0m\u001b[0mfunctions\u001b[0m \u001b[1;32mimport\u001b[0m \u001b[0mlower\u001b[0m\u001b[1;33m,\u001b[0m \u001b[0mcol\u001b[0m\u001b[1;33m\u001b[0m\u001b[1;33m\u001b[0m\u001b[0m\n\u001b[0;32m      2\u001b[0m \u001b[1;33m\u001b[0m\u001b[0m\n\u001b[1;32m----> 3\u001b[1;33m \u001b[0msampleDF\u001b[0m \u001b[1;33m=\u001b[0m \u001b[0mcrimeDataNewYork\u001b[0m\u001b[1;33m.\u001b[0m\u001b[0mselect\u001b[0m\u001b[1;33m(\u001b[0m\u001b[0mcol\u001b[0m\u001b[1;33m(\u001b[0m\u001b[1;34m'reportDate'\u001b[0m\u001b[1;33m)\u001b[0m\u001b[1;33m.\u001b[0m\u001b[0malias\u001b[0m\u001b[1;33m(\u001b[0m\u001b[1;34m'date'\u001b[0m\u001b[1;33m)\u001b[0m \u001b[1;33m,\u001b[0m\u001b[0mcol\u001b[0m\u001b[1;33m(\u001b[0m\u001b[1;34m'offenseDescription'\u001b[0m\u001b[1;33m)\u001b[0m\u001b[1;33m.\u001b[0m\u001b[0malias\u001b[0m\u001b[1;33m(\u001b[0m\u001b[1;34m'offense'\u001b[0m\u001b[1;33m)\u001b[0m\u001b[1;33m)\u001b[0m\u001b[0;31m\\\u001b[0m\u001b[1;33m\u001b[0m\u001b[1;33m\u001b[0m\u001b[0m\n\u001b[0m\u001b[0;32m      4\u001b[0m                            \u001b[1;33m.\u001b[0m\u001b[0mfilter\u001b[0m\u001b[1;33m(\u001b[0m\u001b[0mlower\u001b[0m\u001b[1;33m(\u001b[0m\u001b[0mcol\u001b[0m\u001b[1;33m(\u001b[0m\u001b[1;34m'date'\u001b[0m\u001b[1;33m)\u001b[0m\u001b[1;33m)\u001b[0m\u001b[1;33m.\u001b[0m\u001b[0mcontains\u001b[0m\u001b[1;33m(\u001b[0m\u001b[1;34m'2016-11'\u001b[0m\u001b[1;33m)\u001b[0m \u001b[1;33m&\u001b[0m \u001b[0mlower\u001b[0m\u001b[1;33m(\u001b[0m\u001b[0mcol\u001b[0m\u001b[1;33m(\u001b[0m\u001b[1;34m'offense'\u001b[0m\u001b[1;33m)\u001b[0m\u001b[1;33m)\u001b[0m\u001b[1;33m.\u001b[0m\u001b[0mcontains\u001b[0m\u001b[1;33m(\u001b[0m\u001b[1;34m'murder'\u001b[0m\u001b[1;33m)\u001b[0m\u001b[1;33m)\u001b[0m\u001b[1;33m\u001b[0m\u001b[1;33m\u001b[0m\u001b[0m\n\u001b[0;32m      5\u001b[0m \u001b[0msampleDF\u001b[0m\u001b[1;33m.\u001b[0m\u001b[0mshow\u001b[0m\u001b[1;33m(\u001b[0m\u001b[1;36m5\u001b[0m\u001b[1;33m)\u001b[0m\u001b[1;33m\u001b[0m\u001b[1;33m\u001b[0m\u001b[0m\n",
      "\u001b[1;31mNameError\u001b[0m: name 'crimeDataNewYork' is not defined"
     ]
    }
   ],
   "source": [
    "from pyspark.sql.functions import lower, col\n",
    "\n",
    "sampleDF = crimeDataNewYork.select(col('reportDate').alias('date') ,col('offenseDescription').alias('offense'))\\\n",
    "                           .filter(lower(col('date')).contains('2016-11') & lower(col('offense')).contains('murder'))\n",
    "sampleDF.show(5)"
   ]
  },
  {
   "cell_type": "code",
   "execution_count": 0,
   "metadata": {
    "application/vnd.databricks.v1+cell": {
     "inputWidgets": {},
     "nuid": "5b7bade8-a3e5-44a2-a74e-8b34518d051c",
     "showTitle": false,
     "title": ""
    }
   },
   "outputs": [
    {
     "data": {
      "text/html": [
       "<style scoped>\n",
       "  .ansiout {\n",
       "    display: block;\n",
       "    unicode-bidi: embed;\n",
       "    white-space: pre-wrap;\n",
       "    word-wrap: break-word;\n",
       "    word-break: break-all;\n",
       "    font-family: \"Source Code Pro\", \"Menlo\", monospace;;\n",
       "    font-size: 13px;\n",
       "    color: #555;\n",
       "    margin-left: 4px;\n",
       "    line-height: 19px;\n",
       "  }\n",
       "</style>\n",
       "<div class=\"ansiout\">+-------------------+\n",
       "         reportDate|\n",
       "+-------------------+\n",
       "2016-12-31 00:00:00|\n",
       "2016-12-31 00:00:00|\n",
       "2016-12-31 00:00:00|\n",
       "2016-12-31 00:00:00|\n",
       "2016-12-31 00:00:00|\n",
       "+-------------------+\n",
       "only showing top 5 rows\n",
       "\n",
       "</div>"
      ]
     },
     "metadata": {
      "application/vnd.databricks.v1+output": {
       "addedWidgets": {},
       "arguments": {},
       "data": "<div class=\"ansiout\">+-------------------+\n|         reportDate|\n+-------------------+\n|2016-12-31 00:00:00|\n|2016-12-31 00:00:00|\n|2016-12-31 00:00:00|\n|2016-12-31 00:00:00|\n|2016-12-31 00:00:00|\n+-------------------+\nonly showing top 5 rows\n\n</div>",
       "datasetInfos": [],
       "removedWidgets": [],
       "type": "html"
      }
     },
     "output_type": "display_data"
    }
   ],
   "source": [
    "crimeDataNewYork.select(col('reportDate')).show(5)"
   ]
  },
  {
   "cell_type": "code",
   "execution_count": 0,
   "metadata": {
    "application/vnd.databricks.v1+cell": {
     "inputWidgets": {},
     "nuid": "9423c390-3686-4320-9f92-77c4eada0b78",
     "showTitle": false,
     "title": ""
    }
   },
   "outputs": [
    {
     "data": {
      "text/html": [
       "<style scoped>\n",
       "  .ansiout {\n",
       "    display: block;\n",
       "    unicode-bidi: embed;\n",
       "    white-space: pre-wrap;\n",
       "    word-wrap: break-word;\n",
       "    word-break: break-all;\n",
       "    font-family: \"Source Code Pro\", \"Menlo\", monospace;;\n",
       "    font-size: 13px;\n",
       "    color: #555;\n",
       "    margin-left: 4px;\n",
       "    line-height: 19px;\n",
       "  }\n",
       "</style>\n",
       "<div class=\"ansiout\">+-----------------+\n",
       "month(reportDate)|\n",
       "+-----------------+\n",
       "               12|\n",
       "               12|\n",
       "               12|\n",
       "               12|\n",
       "               12|\n",
       "+-----------------+\n",
       "only showing top 5 rows\n",
       "\n",
       "</div>"
      ]
     },
     "metadata": {
      "application/vnd.databricks.v1+output": {
       "addedWidgets": {},
       "arguments": {},
       "data": "<div class=\"ansiout\">+-----------------+\n|month(reportDate)|\n+-----------------+\n|               12|\n|               12|\n|               12|\n|               12|\n|               12|\n+-----------------+\nonly showing top 5 rows\n\n</div>",
       "datasetInfos": [],
       "removedWidgets": [],
       "type": "html"
      }
     },
     "output_type": "display_data"
    }
   ],
   "source": [
    "crimeDataNewYork.select(month(col('reportDate'))).show(5)"
   ]
  },
  {
   "cell_type": "code",
   "execution_count": 0,
   "metadata": {
    "application/vnd.databricks.v1+cell": {
     "inputWidgets": {},
     "nuid": "f5ba4341-963c-4947-8556-e59108232e9a",
     "showTitle": false,
     "title": ""
    }
   },
   "outputs": [
    {
     "data": {
      "text/html": [
       "<style scoped>\n",
       "  .ansiout {\n",
       "    display: block;\n",
       "    unicode-bidi: embed;\n",
       "    white-space: pre-wrap;\n",
       "    word-wrap: break-word;\n",
       "    word-break: break-all;\n",
       "    font-family: \"Source Code Pro\", \"Menlo\", monospace;;\n",
       "    font-size: 13px;\n",
       "    color: #555;\n",
       "    margin-left: 4px;\n",
       "    line-height: 19px;\n",
       "  }\n",
       "</style>\n",
       "<div class=\"ansiout\">+-----+-----+\n",
       "month|count|\n",
       "+-----+-----+\n",
       "    1|   61|\n",
       "    2|   52|\n",
       "    3|   47|\n",
       "    4|   50|\n",
       "    5|   74|\n",
       "+-----+-----+\n",
       "only showing top 5 rows\n",
       "\n",
       "</div>"
      ]
     },
     "metadata": {
      "application/vnd.databricks.v1+output": {
       "addedWidgets": {},
       "arguments": {},
       "data": "<div class=\"ansiout\">+-----+-----+\n|month|count|\n+-----+-----+\n|    1|   61|\n|    2|   52|\n|    3|   47|\n|    4|   50|\n|    5|   74|\n+-----+-----+\nonly showing top 5 rows\n\n</div>",
       "datasetInfos": [
        {
         "name": "homicidesNewYorkDF",
         "schema": {
          "fields": [
           {
            "metadata": {},
            "name": "month",
            "nullable": true,
            "type": "integer"
           },
           {
            "metadata": {},
            "name": "offense",
            "nullable": true,
            "type": "string"
           }
          ],
          "type": "struct"
         },
         "tableIdentifier": null,
         "typeStr": "pyspark.sql.dataframe.DataFrame"
        },
        {
         "name": "homicidesBostonDF",
         "schema": {
          "fields": [
           {
            "metadata": {},
            "name": "month",
            "nullable": true,
            "type": "integer"
           },
           {
            "metadata": {},
            "name": "offense",
            "nullable": true,
            "type": "string"
           }
          ],
          "type": "struct"
         },
         "tableIdentifier": null,
         "typeStr": "pyspark.sql.dataframe.DataFrame"
        },
        {
         "name": "homicidesChicagoDF",
         "schema": {
          "fields": [
           {
            "metadata": {},
            "name": "month",
            "nullable": true,
            "type": "integer"
           },
           {
            "metadata": {},
            "name": "offense",
            "nullable": true,
            "type": "string"
           }
          ],
          "type": "struct"
         },
         "tableIdentifier": null,
         "typeStr": "pyspark.sql.dataframe.DataFrame"
        },
        {
         "name": "allHomicidesDF",
         "schema": {
          "fields": [
           {
            "metadata": {},
            "name": "month",
            "nullable": true,
            "type": "integer"
           },
           {
            "metadata": {},
            "name": "offense",
            "nullable": true,
            "type": "string"
           }
          ],
          "type": "struct"
         },
         "tableIdentifier": null,
         "typeStr": "pyspark.sql.dataframe.DataFrame"
        },
        {
         "name": "homicidesByMonth",
         "schema": {
          "fields": [
           {
            "metadata": {},
            "name": "month",
            "nullable": true,
            "type": "integer"
           },
           {
            "metadata": {},
            "name": "count",
            "nullable": false,
            "type": "long"
           }
          ],
          "type": "struct"
         },
         "tableIdentifier": null,
         "typeStr": "pyspark.sql.dataframe.DataFrame"
        }
       ],
       "removedWidgets": [],
       "type": "html"
      }
     },
     "output_type": "display_data"
    }
   ],
   "source": [
    "homicidesNewYorkDF = crimeDataNewYork.select(month(col('reportDate')).alias('month'), col('offenseDescription').alias('offense'))\\\n",
    "                                     .filter(lower(col('offense')).contains('homicide'))\n",
    "\n",
    "homicidesBostonDF = crimeDataBoston.select('month', col('OFFENSE_CODE_GROUP').alias('offense'))\\\n",
    "                                   .filter(lower(col('offense')).contains('homicide'))\n",
    "\n",
    "homicidesChicagoDF = crimeDataChicago.select(month(col('date')).alias('month'), col('primaryType').alias('offense'))\\\n",
    "                                     .filter(lower(col('offense')).contains('homicide'))\n",
    "\n",
    "allHomicidesDF = homicidesNewYorkDF.union(homicidesBostonDF).union(homicidesChicagoDF)\n",
    "\n",
    "homicidesByMonth = allHomicidesDF.select('month').groupBy('month').count().orderBy('month')\n",
    "homicidesByMonth.show(5)\n",
    "\n"
   ]
  },
  {
   "cell_type": "code",
   "execution_count": 0,
   "metadata": {
    "application/vnd.databricks.v1+cell": {
     "inputWidgets": {},
     "nuid": "bea156fa-b0e7-4059-b1ab-e8d3dc364c3d",
     "showTitle": false,
     "title": ""
    }
   },
   "outputs": [
    {
     "data": {
      "text/html": [
       "<style scoped>\n",
       "  .table-result-container {\n",
       "    max-height: 300px;\n",
       "    overflow: auto;\n",
       "  }\n",
       "  table, th, td {\n",
       "    border: 1px solid black;\n",
       "    border-collapse: collapse;\n",
       "  }\n",
       "  th, td {\n",
       "    padding: 5px;\n",
       "  }\n",
       "  th {\n",
       "    text-align: left;\n",
       "  }\n",
       "</style><div class='table-result-container'><table class='table-result'><thead style='background-color: white'><tr><th>month</th><th>count</th><th>city</th></tr></thead><tbody><tr><td>2</td><td>1</td><td>New York</td></tr><tr><td>4</td><td>2</td><td>New York</td></tr><tr><td>8</td><td>1</td><td>New York</td></tr><tr><td>1</td><td>7</td><td>Boston</td></tr><tr><td>2</td><td>4</td><td>Boston</td></tr><tr><td>3</td><td>4</td><td>Boston</td></tr><tr><td>4</td><td>8</td><td>Boston</td></tr><tr><td>5</td><td>7</td><td>Boston</td></tr><tr><td>6</td><td>10</td><td>Boston</td></tr><tr><td>7</td><td>15</td><td>Boston</td></tr><tr><td>8</td><td>14</td><td>Boston</td></tr><tr><td>9</td><td>9</td><td>Boston</td></tr><tr><td>10</td><td>9</td><td>Boston</td></tr><tr><td>11</td><td>9</td><td>Boston</td></tr><tr><td>12</td><td>10</td><td>Boston</td></tr><tr><td>1</td><td>54</td><td>Chicago</td></tr><tr><td>2</td><td>47</td><td>Chicago</td></tr><tr><td>3</td><td>43</td><td>Chicago</td></tr><tr><td>4</td><td>40</td><td>Chicago</td></tr><tr><td>5</td><td>67</td><td>Chicago</td></tr><tr><td>6</td><td>78</td><td>Chicago</td></tr><tr><td>7</td><td>71</td><td>Chicago</td></tr><tr><td>8</td><td>94</td><td>Chicago</td></tr><tr><td>9</td><td>66</td><td>Chicago</td></tr><tr><td>10</td><td>80</td><td>Chicago</td></tr><tr><td>11</td><td>81</td><td>Chicago</td></tr><tr><td>12</td><td>58</td><td>Chicago</td></tr></tbody></table></div>"
      ]
     },
     "metadata": {
      "application/vnd.databricks.v1+output": {
       "addedWidgets": {},
       "aggData": [],
       "aggError": "",
       "aggOverflow": false,
       "aggSchema": [],
       "aggSeriesLimitReached": false,
       "aggType": "",
       "arguments": {},
       "columnCustomDisplayInfos": {},
       "data": [
        [
         2,
         1,
         "New York"
        ],
        [
         4,
         2,
         "New York"
        ],
        [
         8,
         1,
         "New York"
        ],
        [
         1,
         7,
         "Boston"
        ],
        [
         2,
         4,
         "Boston"
        ],
        [
         3,
         4,
         "Boston"
        ],
        [
         4,
         8,
         "Boston"
        ],
        [
         5,
         7,
         "Boston"
        ],
        [
         6,
         10,
         "Boston"
        ],
        [
         7,
         15,
         "Boston"
        ],
        [
         8,
         14,
         "Boston"
        ],
        [
         9,
         9,
         "Boston"
        ],
        [
         10,
         9,
         "Boston"
        ],
        [
         11,
         9,
         "Boston"
        ],
        [
         12,
         10,
         "Boston"
        ],
        [
         1,
         54,
         "Chicago"
        ],
        [
         2,
         47,
         "Chicago"
        ],
        [
         3,
         43,
         "Chicago"
        ],
        [
         4,
         40,
         "Chicago"
        ],
        [
         5,
         67,
         "Chicago"
        ],
        [
         6,
         78,
         "Chicago"
        ],
        [
         7,
         71,
         "Chicago"
        ],
        [
         8,
         94,
         "Chicago"
        ],
        [
         9,
         66,
         "Chicago"
        ],
        [
         10,
         80,
         "Chicago"
        ],
        [
         11,
         81,
         "Chicago"
        ],
        [
         12,
         58,
         "Chicago"
        ]
       ],
       "datasetInfos": [
        {
         "name": "homicidesByMonthNewYork",
         "schema": {
          "fields": [
           {
            "metadata": {},
            "name": "month",
            "nullable": true,
            "type": "integer"
           },
           {
            "metadata": {},
            "name": "count",
            "nullable": false,
            "type": "long"
           }
          ],
          "type": "struct"
         },
         "tableIdentifier": null,
         "typeStr": "pyspark.sql.dataframe.DataFrame"
        },
        {
         "name": "homicidesByMonthBoston",
         "schema": {
          "fields": [
           {
            "metadata": {},
            "name": "month",
            "nullable": true,
            "type": "integer"
           },
           {
            "metadata": {},
            "name": "count",
            "nullable": false,
            "type": "long"
           }
          ],
          "type": "struct"
         },
         "tableIdentifier": null,
         "typeStr": "pyspark.sql.dataframe.DataFrame"
        },
        {
         "name": "homicidesByMonthChicago",
         "schema": {
          "fields": [
           {
            "metadata": {},
            "name": "month",
            "nullable": true,
            "type": "integer"
           },
           {
            "metadata": {},
            "name": "count",
            "nullable": false,
            "type": "long"
           }
          ],
          "type": "struct"
         },
         "tableIdentifier": null,
         "typeStr": "pyspark.sql.dataframe.DataFrame"
        },
        {
         "name": "unionHomicidesByMonth",
         "schema": {
          "fields": [
           {
            "metadata": {},
            "name": "month",
            "nullable": true,
            "type": "integer"
           },
           {
            "metadata": {},
            "name": "count",
            "nullable": false,
            "type": "long"
           },
           {
            "metadata": {},
            "name": "city",
            "nullable": false,
            "type": "string"
           }
          ],
          "type": "struct"
         },
         "tableIdentifier": null,
         "typeStr": "pyspark.sql.dataframe.DataFrame"
        }
       ],
       "dbfsResultPath": null,
       "isJsonSchema": true,
       "overflow": false,
       "plotOptions": {
        "customPlotOptions": {},
        "displayType": "table",
        "pivotAggregation": null,
        "pivotColumns": null,
        "xColumns": null,
        "yColumns": null
       },
       "removedWidgets": [],
       "schema": [
        {
         "metadata": "{}",
         "name": "month",
         "type": "\"integer\""
        },
        {
         "metadata": "{}",
         "name": "count",
         "type": "\"long\""
        },
        {
         "metadata": "{}",
         "name": "city",
         "type": "\"string\""
        }
       ],
       "type": "table"
      }
     },
     "output_type": "display_data"
    }
   ],
   "source": [
    "from pyspark.sql.functions import lit\n",
    "\n",
    "homicidesByMonthNewYork = homicidesNewYorkDF.select('month').groupBy('month').count().orderBy('month')\n",
    "homicidesByMonthBoston = homicidesBostonDF.select('month').groupBy('month').count().orderBy('month')\n",
    "homicidesByMonthChicago = homicidesChicagoDF.select('month').groupBy('month').count().orderBy('month')\n",
    "\n",
    "unionHomicidesByMonth = homicidesByMonthNewYork.withColumn('city', lit('New York'))\\\n",
    "                                               .union(homicidesByMonthBoston.withColumn('city', lit('Boston')))\\\n",
    "                                               .union(homicidesByMonthChicago.withColumn('city', lit('Chicago')))\n",
    "display(unionHomicidesByMonth)"
   ]
  },
  {
   "cell_type": "code",
   "execution_count": 0,
   "metadata": {
    "application/vnd.databricks.v1+cell": {
     "inputWidgets": {},
     "nuid": "39d7ccdb-6ade-4f5f-a42b-c05020891201",
     "showTitle": false,
     "title": ""
    }
   },
   "outputs": [
    {
     "data": {
      "text/html": [
       "<style scoped>\n",
       "  .table-result-container {\n",
       "    max-height: 300px;\n",
       "    overflow: auto;\n",
       "  }\n",
       "  table, th, td {\n",
       "    border: 1px solid black;\n",
       "    border-collapse: collapse;\n",
       "  }\n",
       "  th, td {\n",
       "    padding: 5px;\n",
       "  }\n",
       "  th {\n",
       "    text-align: left;\n",
       "  }\n",
       "</style><div class='table-result-container'><table class='table-result'><thead style='background-color: white'><tr><th>month</th><th>count</th><th>city</th></tr></thead><tbody><tr><td>2</td><td>1</td><td>New York</td></tr><tr><td>4</td><td>2</td><td>New York</td></tr><tr><td>8</td><td>1</td><td>New York</td></tr><tr><td>1</td><td>7</td><td>Boston</td></tr><tr><td>2</td><td>4</td><td>Boston</td></tr><tr><td>3</td><td>4</td><td>Boston</td></tr><tr><td>4</td><td>8</td><td>Boston</td></tr><tr><td>5</td><td>7</td><td>Boston</td></tr><tr><td>6</td><td>10</td><td>Boston</td></tr><tr><td>7</td><td>15</td><td>Boston</td></tr><tr><td>8</td><td>14</td><td>Boston</td></tr><tr><td>9</td><td>9</td><td>Boston</td></tr><tr><td>10</td><td>9</td><td>Boston</td></tr><tr><td>11</td><td>9</td><td>Boston</td></tr><tr><td>12</td><td>10</td><td>Boston</td></tr><tr><td>1</td><td>54</td><td>Chicago</td></tr><tr><td>2</td><td>47</td><td>Chicago</td></tr><tr><td>3</td><td>43</td><td>Chicago</td></tr><tr><td>4</td><td>40</td><td>Chicago</td></tr><tr><td>5</td><td>67</td><td>Chicago</td></tr><tr><td>6</td><td>78</td><td>Chicago</td></tr><tr><td>7</td><td>71</td><td>Chicago</td></tr><tr><td>8</td><td>94</td><td>Chicago</td></tr><tr><td>9</td><td>66</td><td>Chicago</td></tr><tr><td>10</td><td>80</td><td>Chicago</td></tr><tr><td>11</td><td>81</td><td>Chicago</td></tr><tr><td>12</td><td>58</td><td>Chicago</td></tr></tbody></table></div>"
      ]
     },
     "metadata": {
      "application/vnd.databricks.v1+output": {
       "addedWidgets": {},
       "aggData": [],
       "aggError": "",
       "aggOverflow": false,
       "aggSchema": [],
       "aggSeriesLimitReached": false,
       "aggType": "",
       "arguments": {},
       "columnCustomDisplayInfos": {},
       "data": [
        [
         2,
         1,
         "New York"
        ],
        [
         4,
         2,
         "New York"
        ],
        [
         8,
         1,
         "New York"
        ],
        [
         1,
         7,
         "Boston"
        ],
        [
         2,
         4,
         "Boston"
        ],
        [
         3,
         4,
         "Boston"
        ],
        [
         4,
         8,
         "Boston"
        ],
        [
         5,
         7,
         "Boston"
        ],
        [
         6,
         10,
         "Boston"
        ],
        [
         7,
         15,
         "Boston"
        ],
        [
         8,
         14,
         "Boston"
        ],
        [
         9,
         9,
         "Boston"
        ],
        [
         10,
         9,
         "Boston"
        ],
        [
         11,
         9,
         "Boston"
        ],
        [
         12,
         10,
         "Boston"
        ],
        [
         1,
         54,
         "Chicago"
        ],
        [
         2,
         47,
         "Chicago"
        ],
        [
         3,
         43,
         "Chicago"
        ],
        [
         4,
         40,
         "Chicago"
        ],
        [
         5,
         67,
         "Chicago"
        ],
        [
         6,
         78,
         "Chicago"
        ],
        [
         7,
         71,
         "Chicago"
        ],
        [
         8,
         94,
         "Chicago"
        ],
        [
         9,
         66,
         "Chicago"
        ],
        [
         10,
         80,
         "Chicago"
        ],
        [
         11,
         81,
         "Chicago"
        ],
        [
         12,
         58,
         "Chicago"
        ]
       ],
       "datasetInfos": [],
       "dbfsResultPath": null,
       "isJsonSchema": true,
       "overflow": false,
       "plotOptions": {
        "customPlotOptions": {
         "plotlyBar": [
          {
           "key": "grouped",
           "value": true
          },
          {
           "key": "stacked",
           "value": false
          },
          {
           "key": "100_stacked",
           "value": false
          }
         ]
        },
        "displayType": "plotlyBar",
        "pivotAggregation": "sum",
        "pivotColumns": [
         "city"
        ],
        "xColumns": [
         "month"
        ],
        "yColumns": [
         "count"
        ]
       },
       "removedWidgets": [],
       "schema": [
        {
         "metadata": "{}",
         "name": "month",
         "type": "\"integer\""
        },
        {
         "metadata": "{}",
         "name": "count",
         "type": "\"long\""
        },
        {
         "metadata": "{}",
         "name": "city",
         "type": "\"string\""
        }
       ],
       "type": "table"
      }
     },
     "output_type": "display_data"
    }
   ],
   "source": [
    "display(unionHomicidesByMonth)"
   ]
  },
  {
   "cell_type": "code",
   "execution_count": 0,
   "metadata": {
    "application/vnd.databricks.v1+cell": {
     "inputWidgets": {},
     "nuid": "de3042f6-463b-4439-9db9-6352b16af7fc",
     "showTitle": false,
     "title": ""
    }
   },
   "outputs": [],
   "source": []
  }
 ],
 "metadata": {
  "application/vnd.databricks.v1+notebook": {
   "dashboards": [],
   "language": "python",
   "notebookName": "빅데이터시스템 과제 모음",
   "notebookOrigID": 2831964843577614,
   "widgets": {}
  },
  "kernelspec": {
   "display_name": "Python 3",
   "language": "python",
   "name": "python3"
  },
  "language_info": {
   "codemirror_mode": {
    "name": "ipython",
    "version": 3
   },
   "file_extension": ".py",
   "mimetype": "text/x-python",
   "name": "python",
   "nbconvert_exporter": "python",
   "pygments_lexer": "ipython3",
   "version": "3.8.3"
  }
 },
 "nbformat": 4,
 "nbformat_minor": 1
}
