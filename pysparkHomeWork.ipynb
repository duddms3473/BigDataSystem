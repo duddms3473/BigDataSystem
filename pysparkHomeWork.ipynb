{
 "cells": [
  {
   "cell_type": "code",
   "execution_count": 2,
   "metadata": {},
   "outputs": [],
   "source": [
    "sc = SparkContext.getOrCreate()"
   ]
  },
  {
   "cell_type": "markdown",
   "metadata": {},
   "source": [
    "### 과제6 문제1"
   ]
  },
  {
   "cell_type": "code",
   "execution_count": 4,
   "metadata": {},
   "outputs": [
    {
     "name": "stdout",
     "output_type": "stream",
     "text": [
      "[(1, 2), (2, 4), (3, 6)]\n"
     ]
    }
   ],
   "source": [
    "x = sc.parallelize([1,2,3])\n",
    "y = x.map(lambda z: (z, z*2))\n",
    "print(y.collect())"
   ]
  },
  {
   "cell_type": "markdown",
   "metadata": {},
   "source": [
    "### 과제6 문제2"
   ]
  },
  {
   "cell_type": "code",
   "execution_count": 5,
   "metadata": {},
   "outputs": [
    {
     "name": "stdout",
     "output_type": "stream",
     "text": [
      "[1, 2, 3, 4, 5]\n",
      "[2, 4]\n"
     ]
    }
   ],
   "source": [
    "x = sc.parallelize([1,2,3,4,5])\n",
    "y = x.filter(lambda x: x%2 != 1)\n",
    "print(x.collect())\n",
    "print(y.collect())"
   ]
  },
  {
   "cell_type": "markdown",
   "metadata": {},
   "source": [
    "### 과제6 문제3"
   ]
  },
  {
   "cell_type": "code",
   "execution_count": 6,
   "metadata": {},
   "outputs": [
    {
     "name": "stdout",
     "output_type": "stream",
     "text": [
      "[('is', 3), ('test', 3)]\n"
     ]
    }
   ],
   "source": [
    "text = 'this is test that is not test this test is easy'.split()\n",
    "\n",
    "x = sc.parallelize(text)\n",
    "map_x = x.map(lambda word: (word, 1))\n",
    "reduce  = map_x.reduceByKey(lambda x, y : (x+y))\\\n",
    "               .filter(lambda x : x[1]>2).collect()       \n",
    "print(reduce)"
   ]
  },
  {
   "cell_type": "code",
   "execution_count": 7,
   "metadata": {},
   "outputs": [
    {
     "data": {
      "text/plain": [
       "[('that', 1), ('this', 2), ('is', 3), ('test', 3), ('not', 1), ('easy', 1)]"
      ]
     },
     "execution_count": 7,
     "metadata": {},
     "output_type": "execute_result"
    }
   ],
   "source": [
    "map_x.reduceByKey(lambda x, y : (x+y)).collect()"
   ]
  },
  {
   "cell_type": "markdown",
   "metadata": {},
   "source": [
    "### 과제6 문제4"
   ]
  },
  {
   "cell_type": "code",
   "execution_count": 8,
   "metadata": {},
   "outputs": [
    {
     "name": "stdout",
     "output_type": "stream",
     "text": [
      "[('is', 3), ('test', 3)]\n"
     ]
    }
   ],
   "source": [
    "text = 'this is test that is not test this test is easy'.split()\n",
    "\n",
    "x = sc.parallelize(text)\n",
    "map_x = x.map(lambda word: (word, 1))\n",
    "group = map_x.groupByKey().map(lambda x : (x[0], sum(x[1])))\\\n",
    "               .filter(lambda x : x[1]>2).collect()\n",
    "print(reduce)"
   ]
  },
  {
   "cell_type": "code",
   "execution_count": 10,
   "metadata": {},
   "outputs": [
    {
     "data": {
      "text/plain": [
       "[('that', <pyspark.resultiterable.ResultIterable at 0x2c75bee5160>),\n",
       " ('this', <pyspark.resultiterable.ResultIterable at 0x2c75bee5438>),\n",
       " ('is', <pyspark.resultiterable.ResultIterable at 0x2c75bee5b70>),\n",
       " ('test', <pyspark.resultiterable.ResultIterable at 0x2c75bee5240>),\n",
       " ('not', <pyspark.resultiterable.ResultIterable at 0x2c75bee5208>),\n",
       " ('easy', <pyspark.resultiterable.ResultIterable at 0x2c75bee5828>)]"
      ]
     },
     "execution_count": 10,
     "metadata": {},
     "output_type": "execute_result"
    }
   ],
   "source": [
    "map_x.groupByKey().collect()"
   ]
  },
  {
   "cell_type": "code",
   "execution_count": 11,
   "metadata": {},
   "outputs": [
    {
     "name": "stdout",
     "output_type": "stream",
     "text": [
      "[('that', [1]), ('this', [1, 1]), ('is', [1, 1, 1]), ('test', [1, 1, 1]), ('not', [1]), ('easy', [1])]\n"
     ]
    }
   ],
   "source": [
    "print(list((j[0], list(j[1])) for j in map_x.groupByKey().collect()))"
   ]
  },
  {
   "cell_type": "code",
   "execution_count": 12,
   "metadata": {},
   "outputs": [
    {
     "name": "stdout",
     "output_type": "stream",
     "text": [
      "[('that', [1]), ('this', [1, 1]), ('is', [1, 1, 1]), ('test', [1, 1, 1]), ('not', [1]), ('easy', [1])]\n"
     ]
    }
   ],
   "source": [
    "print(list((k, list(v)) for k, v in map_x.groupByKey().collect()))"
   ]
  },
  {
   "cell_type": "code",
   "execution_count": 9,
   "metadata": {},
   "outputs": [
    {
     "data": {
      "text/plain": [
       "[('that', 1), ('this', 2), ('is', 3), ('test', 3), ('not', 1), ('easy', 1)]"
      ]
     },
     "execution_count": 9,
     "metadata": {},
     "output_type": "execute_result"
    }
   ],
   "source": [
    "map_x.groupByKey().map(lambda x : (x[0], sum(x[1]))).collect()"
   ]
  },
  {
   "cell_type": "code",
   "execution_count": null,
   "metadata": {},
   "outputs": [],
   "source": []
  }
 ],
 "metadata": {
  "kernelspec": {
   "display_name": "Python 3",
   "language": "python",
   "name": "python3"
  },
  "language_info": {
   "codemirror_mode": {
    "name": "ipython",
    "version": 3
   },
   "file_extension": ".py",
   "mimetype": "text/x-python",
   "name": "python",
   "nbconvert_exporter": "python",
   "pygments_lexer": "ipython3",
   "version": "3.7.3"
  }
 },
 "nbformat": 4,
 "nbformat_minor": 2
}
