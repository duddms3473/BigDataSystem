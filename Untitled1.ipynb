{
 "cells": [
  {
   "cell_type": "code",
   "execution_count": 5,
   "metadata": {},
   "outputs": [],
   "source": [
    "import numpy as np"
   ]
  },
  {
   "cell_type": "markdown",
   "metadata": {},
   "source": [
    "# 과제1_ 문제1"
   ]
  },
  {
   "cell_type": "code",
   "execution_count": 2,
   "metadata": {},
   "outputs": [
    {
     "name": "stdout",
     "output_type": "stream",
     "text": [
      "{'홍길동': {'phone': '000-1111-1234', 'email': 'hong@aa.bb.cc'}, 'kim': {'phone': '000-2222-2345', 'email': 'kim@aa.bb.cc'}}\n"
     ]
    }
   ],
   "source": [
    "contacts = {'홍길동' : {\n",
    "                          'phone' : '000-1111-1234',\n",
    "                          'email' : 'hong@aa.bb.cc'},\n",
    "            'kim' : {\n",
    "                           'phone' : '000-2222-2345',\n",
    "                           'email' : 'kim@aa.bb.cc'}\n",
    "           }\n",
    "\n",
    "print(contacts)"
   ]
  },
  {
   "cell_type": "code",
   "execution_count": 5,
   "metadata": {},
   "outputs": [
    {
     "name": "stdout",
     "output_type": "stream",
     "text": [
      "홍길동's contact information\n",
      "phone : 000-1111-1234\n",
      "email : hong@aa.bb.cc\n",
      "\n",
      "kim's contact information\n",
      "phone : 000-2222-2345\n",
      "email : kim@aa.bb.cc\n",
      "\n"
     ]
    }
   ],
   "source": [
    "# for 문을 통해 dictionary를 돌리면 key값이 할당\n",
    "for contact in contacts:\n",
    "    print(\"{}'s contact information\".format(contact))\n",
    "    print(\"phone : {}\".format(contacts[contact]['phone']))\n",
    "    print('email : {}'.format(contacts[contact]['email']))\n",
    "    print()"
   ]
  },
  {
   "cell_type": "code",
   "execution_count": 69,
   "metadata": {},
   "outputs": [
    {
     "name": "stdout",
     "output_type": "stream",
     "text": [
      "{'phone': '000-1111-1234', 'email': 'hong@aa.bb.cc'}\n",
      "{'phone': '000-2222-2345', 'email': 'kim@aa.bb.cc'}\n"
     ]
    }
   ],
   "source": [
    "for value in contacts.values():\n",
    "    print(value)"
   ]
  },
  {
   "cell_type": "code",
   "execution_count": 70,
   "metadata": {},
   "outputs": [
    {
     "name": "stdout",
     "output_type": "stream",
     "text": [
      "홍길동's contact information\n",
      "phone : 000-1111-1234\n",
      "email : hong@aa.bb.cc\n"
     ]
    },
    {
     "ename": "KeyError",
     "evalue": "'school'",
     "output_type": "error",
     "traceback": [
      "\u001b[1;31m---------------------------------------------------------------------------\u001b[0m",
      "\u001b[1;31mKeyError\u001b[0m                                  Traceback (most recent call last)",
      "\u001b[1;32m<ipython-input-70-ad7306ea2c6d>\u001b[0m in \u001b[0;36m<module>\u001b[1;34m\u001b[0m\n\u001b[0;32m      3\u001b[0m     \u001b[0mprint\u001b[0m\u001b[1;33m(\u001b[0m\u001b[1;34m\"phone : {}\"\u001b[0m\u001b[1;33m.\u001b[0m\u001b[0mformat\u001b[0m\u001b[1;33m(\u001b[0m\u001b[0mcontacts\u001b[0m\u001b[1;33m[\u001b[0m\u001b[0mcontact\u001b[0m\u001b[1;33m]\u001b[0m\u001b[1;33m[\u001b[0m\u001b[1;34m'phone'\u001b[0m\u001b[1;33m]\u001b[0m\u001b[1;33m)\u001b[0m\u001b[1;33m)\u001b[0m\u001b[1;33m\u001b[0m\u001b[1;33m\u001b[0m\u001b[0m\n\u001b[0;32m      4\u001b[0m     \u001b[0mprint\u001b[0m\u001b[1;33m(\u001b[0m\u001b[1;34m'email : {}'\u001b[0m\u001b[1;33m.\u001b[0m\u001b[0mformat\u001b[0m\u001b[1;33m(\u001b[0m\u001b[0mcontacts\u001b[0m\u001b[1;33m[\u001b[0m\u001b[0mcontact\u001b[0m\u001b[1;33m]\u001b[0m\u001b[1;33m[\u001b[0m\u001b[1;34m'email'\u001b[0m\u001b[1;33m]\u001b[0m\u001b[1;33m)\u001b[0m\u001b[1;33m)\u001b[0m\u001b[1;33m\u001b[0m\u001b[1;33m\u001b[0m\u001b[0m\n\u001b[1;32m----> 5\u001b[1;33m     \u001b[0mprint\u001b[0m\u001b[1;33m(\u001b[0m\u001b[1;34m'school : {}'\u001b[0m\u001b[1;33m.\u001b[0m\u001b[0mformat\u001b[0m\u001b[1;33m(\u001b[0m\u001b[0mcontacts\u001b[0m\u001b[1;33m[\u001b[0m\u001b[0mcontact\u001b[0m\u001b[1;33m]\u001b[0m\u001b[1;33m[\u001b[0m\u001b[1;34m'school'\u001b[0m\u001b[1;33m]\u001b[0m\u001b[1;33m)\u001b[0m\u001b[1;33m)\u001b[0m\u001b[1;33m\u001b[0m\u001b[1;33m\u001b[0m\u001b[0m\n\u001b[0m\u001b[0;32m      6\u001b[0m     \u001b[0mprint\u001b[0m\u001b[1;33m(\u001b[0m\u001b[1;33m)\u001b[0m\u001b[1;33m\u001b[0m\u001b[1;33m\u001b[0m\u001b[0m\n",
      "\u001b[1;31mKeyError\u001b[0m: 'school'"
     ]
    }
   ],
   "source": [
    "for contact in contacts:\n",
    "    print(\"{}'s contact information\".format(contact))\n",
    "    print(\"phone : {}\".format(contacts[contact]['phone']))\n",
    "    print('email : {}'.format(contacts[contact]['email']))\n",
    "    print('school : {}'.format(contacts[contact]['school']))\n",
    "    print()"
   ]
  },
  {
   "cell_type": "code",
   "execution_count": 72,
   "metadata": {},
   "outputs": [
    {
     "name": "stdout",
     "output_type": "stream",
     "text": [
      "홍길동's contact information\n",
      "phone : 000-1111-1234\n",
      "email : hong@aa.bb.cc\n",
      "school : None\n",
      "\n",
      "kim's contact information\n",
      "phone : 000-2222-2345\n",
      "email : kim@aa.bb.cc\n",
      "school : None\n",
      "\n"
     ]
    }
   ],
   "source": [
    "for contact in contacts:\n",
    "    print(\"{}'s contact information\".format(contact))\n",
    "    print(\"phone : {}\".format(contacts[contact].get('phone')))\n",
    "    print('email : {}'.format(contacts[contact].get('email')))\n",
    "    print('school : {}'.format(contacts[contact].get('school')))\n",
    "    print()"
   ]
  },
  {
   "cell_type": "markdown",
   "metadata": {},
   "source": [
    "# 과제1_문제2"
   ]
  },
  {
   "cell_type": "code",
   "execution_count": 11,
   "metadata": {},
   "outputs": [
    {
     "name": "stdout",
     "output_type": "stream",
     "text": [
      "['odd', 'even', 'odd', 'even', 'odd']\n"
     ]
    }
   ],
   "source": [
    "student_number = [20201111, 20202222, 20203333, 20204444, 20205555]\n",
    "\n",
    "even_odd = ['even' if n%2==0 else 'odd' for n in student_number]\n",
    "print(even_odd)"
   ]
  },
  {
   "cell_type": "code",
   "execution_count": 73,
   "metadata": {},
   "outputs": [
    {
     "name": "stdout",
     "output_type": "stream",
     "text": [
      "['odd', 'even', 'odd', 'even', 'odd']\n"
     ]
    }
   ],
   "source": [
    "even_odd = []\n",
    "for n in student_number:\n",
    "    if n%2 == 0:\n",
    "        even_odd.append('even')\n",
    "    else:\n",
    "        even_odd.append('odd')\n",
    "        \n",
    "print(even_odd)"
   ]
  },
  {
   "cell_type": "markdown",
   "metadata": {},
   "source": [
    "# 과제1_문제3"
   ]
  },
  {
   "cell_type": "code",
   "execution_count": 1,
   "metadata": {},
   "outputs": [
    {
     "name": "stdout",
     "output_type": "stream",
     "text": [
      "1256.0\n"
     ]
    }
   ],
   "source": [
    "class Sphere():\n",
    "    pi = 3.14\n",
    "    def area(self, r):\n",
    "        return 4*Sphere.pi*r**2\n",
    "sphere = Sphere()\n",
    "print(sphere.area(10))"
   ]
  },
  {
   "cell_type": "code",
   "execution_count": 2,
   "metadata": {},
   "outputs": [
    {
     "name": "stdout",
     "output_type": "stream",
     "text": [
      "1256.0\n"
     ]
    }
   ],
   "source": [
    "class Sphere():\n",
    "    pi = 3.14\n",
    "    def __init__(self,r):\n",
    "        self.r = r\n",
    "    def area(self):\n",
    "        return 4*Sphere.pi*self.r**2\n",
    "    \n",
    "sphere = Sphere(10)\n",
    "print(sphere.area())"
   ]
  },
  {
   "cell_type": "markdown",
   "metadata": {},
   "source": [
    "# 과제1_문제4"
   ]
  },
  {
   "cell_type": "code",
   "execution_count": 16,
   "metadata": {},
   "outputs": [
    {
     "name": "stdout",
     "output_type": "stream",
     "text": [
      "['홍길동', 'kim']\n"
     ]
    }
   ],
   "source": [
    "student = [{'name':'홍길동', 'student_number':20201111},\n",
    "           {'name':'kim', 'student_number':20202222}]\n",
    "\n",
    "name = list(map(lambda x:x['name'], student))\n",
    "print(name)"
   ]
  },
  {
   "cell_type": "code",
   "execution_count": 79,
   "metadata": {},
   "outputs": [
    {
     "name": "stdout",
     "output_type": "stream",
     "text": [
      "['홍길동', 'kim']\n"
     ]
    }
   ],
   "source": [
    "def get_name(x):\n",
    "    return x['name']\n",
    "\n",
    "name = list(map(get_name, student))\n",
    "print(name)"
   ]
  },
  {
   "cell_type": "markdown",
   "metadata": {},
   "source": [
    "# 과제2_문제1"
   ]
  },
  {
   "cell_type": "code",
   "execution_count": 81,
   "metadata": {},
   "outputs": [
    {
     "name": "stdout",
     "output_type": "stream",
     "text": [
      "[[ 0  1  2  3  4]\n",
      " [ 5  6  7  8  9]\n",
      " [10 11 12 13 14]\n",
      " [15 16 17 18 19]]\n",
      "\n",
      "Green :\n",
      " [1 2 3 4]\n",
      "\n",
      "Blue :\n",
      " [[ 5  6  7  8  9]\n",
      " [10 11 12 13 14]]\n"
     ]
    }
   ],
   "source": [
    "np_array= np.arange(20).reshape(4,5)\n",
    "print(np_array)\n",
    "print()\n",
    "\n",
    "print(\"Green :\\n\", np_array[0,1:])\n",
    "print()\n",
    "print(\"Blue :\\n\", np_array[1:3, :])"
   ]
  },
  {
   "cell_type": "code",
   "execution_count": 87,
   "metadata": {},
   "outputs": [
    {
     "name": "stdout",
     "output_type": "stream",
     "text": [
      "slicing_example1 :\n",
      " [0 1 2 3 4]\n",
      "(5,)\n",
      "\n",
      "slicing_example2 :\n",
      " [[0 1 2 3 4]]\n",
      "(1, 5)\n",
      "\n"
     ]
    }
   ],
   "source": [
    "slicing_example1 = np_array[0,:]\n",
    "print(\"slicing_example1 :\\n\", slicing_example1)\n",
    "print(slicing_example1.shape)\n",
    "print()\n",
    "\n",
    "slicing_example2 = np_array[0:1,:]\n",
    "print(\"slicing_example2 :\\n\", slicing_example2)\n",
    "print(slicing_example2.shape)\n",
    "print()"
   ]
  },
  {
   "cell_type": "markdown",
   "metadata": {},
   "source": [
    "# 과제2_문제2"
   ]
  },
  {
   "cell_type": "code",
   "execution_count": 37,
   "metadata": {},
   "outputs": [
    {
     "name": "stdout",
     "output_type": "stream",
     "text": [
      "[[ 0  1  2  3  4]\n",
      " [ 5  6  7  8  9]\n",
      " [10 11 12 13 14]\n",
      " [15 16 17 18 19]]\n",
      "\n",
      "Red :\n",
      " [[ 0  2  4]\n",
      " [15 17 19]]\n"
     ]
    }
   ],
   "source": [
    "np_array= np.arange(20).reshape(4,5)\n",
    "print(np_array)\n",
    "print()\n",
    "\n",
    "print(\"Red :\\n\", np_array[::3,::2])"
   ]
  },
  {
   "cell_type": "code",
   "execution_count": 83,
   "metadata": {},
   "outputs": [
    {
     "data": {
      "text/plain": [
       "array([[ 0,  2,  4],\n",
       "       [ 5,  7,  9],\n",
       "       [10, 12, 14],\n",
       "       [15, 17, 19]])"
      ]
     },
     "execution_count": 83,
     "metadata": {},
     "output_type": "execute_result"
    }
   ],
   "source": [
    "np_array[:, ::2]"
   ]
  },
  {
   "cell_type": "markdown",
   "metadata": {},
   "source": [
    "# 과제2_문제3"
   ]
  },
  {
   "cell_type": "code",
   "execution_count": 6,
   "metadata": {},
   "outputs": [
    {
     "name": "stdout",
     "output_type": "stream",
     "text": [
      "[[False  True]\n",
      " [False False]\n",
      " [False False]]\n"
     ]
    }
   ],
   "source": [
    "an_array = np.array([[111,222],[333,444],[555,666]])\n",
    "\n",
    "print((an_array >= 200) & (an_array <= 400) & (an_array % 2==0) )"
   ]
  },
  {
   "cell_type": "code",
   "execution_count": 7,
   "metadata": {},
   "outputs": [
    {
     "data": {
      "text/plain": [
       "array([222])"
      ]
     },
     "execution_count": 7,
     "metadata": {},
     "output_type": "execute_result"
    }
   ],
   "source": [
    "an_array[(an_array >= 200) & (an_array <= 400) & (an_array % 2==0)]"
   ]
  },
  {
   "cell_type": "markdown",
   "metadata": {},
   "source": [
    "# 과제2_문제4"
   ]
  },
  {
   "cell_type": "code",
   "execution_count": 9,
   "metadata": {},
   "outputs": [
    {
     "name": "stdout",
     "output_type": "stream",
     "text": [
      "[[[100.14695674 100.23650188  99.99700937  99.97724764]\n",
      "  [ 99.90875064 100.15883069  99.75311977 100.19082261]\n",
      "  [ 99.89793434 100.081323   100.42487849  99.82220428]]\n",
      "\n",
      " [[ 99.90105581 100.03458485  99.87805352 100.04820217]\n",
      "  [ 99.68434767  99.83773663 100.10171092 100.2580486 ]\n",
      "  [100.04769242  99.92171092 100.26164406 100.17132408]]]\n"
     ]
    }
   ],
   "source": [
    "#평균, 표준편차, shape\n",
    "a = np.random.normal(100, 0.2, (2,3,4))\n",
    "print(a)"
   ]
  },
  {
   "cell_type": "code",
   "execution_count": 11,
   "metadata": {},
   "outputs": [
    {
     "name": "stdout",
     "output_type": "stream",
     "text": [
      "[[0.16959249 0.25731154]\n",
      " [0.63128864 0.82997009]]\n"
     ]
    }
   ],
   "source": [
    "# 0~1 사이의 random한 값을 가진 2,2 shape matrix 생성\n",
    "print( np.random.random((2,2)) )"
   ]
  },
  {
   "cell_type": "markdown",
   "metadata": {},
   "source": [
    "# 과제2_문제5"
   ]
  },
  {
   "cell_type": "code",
   "execution_count": 105,
   "metadata": {},
   "outputs": [
    {
     "name": "stdout",
     "output_type": "stream",
     "text": [
      "[[[ 0  1  2  3]\n",
      "  [ 4  5  6  7]\n",
      "  [ 8  9 10 11]]\n",
      "\n",
      " [[12 13 14 15]\n",
      "  [16 17 18 19]\n",
      "  [20 21 22 23]]]\n",
      "\n",
      "sum by row \n",
      " [[12 15 18 21]\n",
      " [48 51 54 57]]\n",
      "(2, 4)\n",
      "\n",
      "sub_by_column \n",
      " [[ 6 22 38]\n",
      " [54 70 86]]\n",
      "(2, 3)\n"
     ]
    }
   ],
   "source": [
    "np_array = np.arange(24).reshape(2,3,4)\n",
    "print(np_array)\n",
    "print()\n",
    "# row 별로 sum을 하면 (2,4)이 됨\n",
    "sum_by_row = np_array.sum(axis=1)\n",
    "print('sum by row \\n',sum_by_row)\n",
    "print(sum_by_row.shape)\n",
    "print()\n",
    "\n",
    "# column 별로 sum을 하면 (2,3)이 됨\n",
    "sub_by_column = np_array.sum(axis=2)\n",
    "print('sub_by_column \\n',sub_by_column)\n",
    "print(sub_by_column.shape)"
   ]
  },
  {
   "cell_type": "code",
   "execution_count": 106,
   "metadata": {},
   "outputs": [
    {
     "name": "stdout",
     "output_type": "stream",
     "text": [
      "sub_by_dim \n",
      " [[12 14 16 18]\n",
      " [20 22 24 26]\n",
      " [28 30 32 34]]\n",
      "(3, 4)\n"
     ]
    }
   ],
   "source": [
    "sub_by_dim = np_array.sum(axis=0)\n",
    "print('sub_by_dim \\n',sub_by_dim)\n",
    "print(sub_by_dim.shape)"
   ]
  },
  {
   "cell_type": "markdown",
   "metadata": {},
   "source": [
    "# 과제2_문제6"
   ]
  },
  {
   "cell_type": "code",
   "execution_count": 50,
   "metadata": {},
   "outputs": [
    {
     "name": "stdout",
     "output_type": "stream",
     "text": [
      "[ True False  True]\n",
      "['apple' 'grape']\n",
      "['banana']\n",
      "['apple' 'banana' 'grape' 'oragne']\n",
      "[1 2 3 4 5 6]\n"
     ]
    }
   ],
   "source": [
    "array1 = np.array(['apple', 'banana', 'grape'])\n",
    "array2 = np.array(['apple', 'oragne', 'grape'])\n",
    "array3 = np.array([1,1,2,2,3,3,4,4,5,5,6,6])\n",
    "\n",
    "# 1 ‘array1’ 배열이 ‘array2’ 배열의 원소를 포함하고 있는지 여부의 불리언 값 반환\n",
    "print(np.in1d(array1,array2))\n",
    "# 2 ‘array1’, ‘array2’ 배열의 교집합을 반환\n",
    "print(np.intersect1d(array1,array2))\n",
    "# 3 ‘array1’, ‘array2’ 배열의 차집합을 반환\n",
    "print(np.setdiff1d(array1,array2))\n",
    "# 4 ‘array1’, ‘array2’ 배열의 합집합을 반환\n",
    "print(np.union1d(array1,array2))\n",
    "# 5 ‘array3’ 배열 내에서 중복된 원소를 제거\n",
    "print(np.unique(array3))"
   ]
  },
  {
   "cell_type": "code",
   "execution_count": 114,
   "metadata": {},
   "outputs": [
    {
     "name": "stdout",
     "output_type": "stream",
     "text": [
      "['apple' 'grape']\n"
     ]
    }
   ],
   "source": [
    "print(array1[np.in1d(array1,array2)])"
   ]
  },
  {
   "cell_type": "code",
   "execution_count": 52,
   "metadata": {},
   "outputs": [
    {
     "data": {
      "text/plain": [
       "[1, 2, 3, 4, 5, 6]"
      ]
     },
     "execution_count": 52,
     "metadata": {},
     "output_type": "execute_result"
    }
   ],
   "source": [
    "list(set(array3))"
   ]
  },
  {
   "cell_type": "markdown",
   "metadata": {},
   "source": [
    "# 과제3_문제3"
   ]
  },
  {
   "cell_type": "code",
   "execution_count": 60,
   "metadata": {},
   "outputs": [
    {
     "name": "stdout",
     "output_type": "stream",
     "text": [
      "prediciton :\n",
      " [[5]\n",
      " [4]\n",
      " [6]]\n",
      "y :\n",
      " [[3]\n",
      " [1]\n",
      " [2]]\n",
      "data size : 3\n",
      "\n",
      "error :\n",
      " [[2]\n",
      " [3]\n",
      " [4]]\n",
      "\n",
      "cost :\n",
      " 4.833333333333333\n"
     ]
    }
   ],
   "source": [
    "prediction = np.array([[5],[4],[6]])\n",
    "y = np.array([[3],[1],[2]])\n",
    "print(\"prediciton :\\n\", prediction)\n",
    "print(\"y :\\n\", y)\n",
    "\n",
    "m = prediction.shape[0]\n",
    "print(\"data size :\",m)\n",
    "print()\n",
    "error = prediction - y\n",
    "print(\"error :\\n\", error)\n",
    "print()\n",
    "\n",
    "cost = (1 / (2*m)) * np.sum(np.square(error))\n",
    "print(\"cost :\\n\", cost)"
   ]
  },
  {
   "cell_type": "code",
   "execution_count": 63,
   "metadata": {},
   "outputs": [
    {
     "name": "stdout",
     "output_type": "stream",
     "text": [
      "[[ 4]\n",
      " [ 9]\n",
      " [16]]\n",
      "\n",
      "29\n"
     ]
    }
   ],
   "source": [
    "print(np.square(error))\n",
    "print()\n",
    "print(np.sum(np.square(error)))"
   ]
  },
  {
   "cell_type": "markdown",
   "metadata": {},
   "source": [
    "# 과제3_문제4"
   ]
  },
  {
   "cell_type": "code",
   "execution_count": 111,
   "metadata": {},
   "outputs": [
    {
     "name": "stdout",
     "output_type": "stream",
     "text": [
      "x :\n",
      " [[ 8  1]\n",
      " [10  1]\n",
      " [15  1]]\n",
      "\n",
      "prediciton :\n",
      " [[5]\n",
      " [4]\n",
      " [1]]\n",
      "y :\n",
      " [[3]\n",
      " [1]\n",
      " [2]]\n",
      "\n",
      "data size : 3\n",
      "\n",
      "error :\n",
      " [[ 2]\n",
      " [ 3]\n",
      " [-1]]\n",
      "\n",
      "delta :\n",
      " [[31]\n",
      " [ 4]]\n",
      "\n",
      "new_theta :\n",
      " [[10.7]\n",
      " [ 8.8]]\n"
     ]
    }
   ],
   "source": [
    "x = np.array([[8,1],[10,1],[15,1]])\n",
    "print(\"x :\\n\", x)\n",
    "print()\n",
    "\n",
    "prediction = np.array([[5],[4],[1]])\n",
    "y = np.array([[3],[1],[2]])\n",
    "print(\"prediciton :\\n\", prediction)\n",
    "print(\"y :\\n\", y)\n",
    "print()\n",
    "\n",
    "m = x.shape[0]\n",
    "print(\"data size :\",m)\n",
    "print()\n",
    "\n",
    "error = prediction - y\n",
    "print(\"error :\\n\", error)\n",
    "print()\n",
    "\n",
    "delta = np.matmul(x.T, error)\n",
    "print(\"delta :\\n\", delta)\n",
    "print()\n",
    "\n",
    "theta = np.array([[20],[10]])\n",
    "alpha = 0.9\n",
    "\n",
    "new_theta = theta-(alpha / m) * delta\n",
    "print(\"new_theta :\\n\", new_theta)"
   ]
  },
  {
   "cell_type": "code",
   "execution_count": 112,
   "metadata": {},
   "outputs": [
    {
     "name": "stdout",
     "output_type": "stream",
     "text": [
      "delta :\n",
      " [[31]\n",
      " [ 4]]\n",
      "\n"
     ]
    }
   ],
   "source": [
    "delta = np.matmul(x.T, error)\n",
    "print(\"delta :\\n\", delta)\n",
    "print()"
   ]
  },
  {
   "cell_type": "code",
   "execution_count": 113,
   "metadata": {},
   "outputs": [
    {
     "data": {
      "text/plain": [
       "array([[ 8, 10, 15],\n",
       "       [ 1,  1,  1]])"
      ]
     },
     "execution_count": 113,
     "metadata": {},
     "output_type": "execute_result"
    }
   ],
   "source": [
    "x.T"
   ]
  },
  {
   "cell_type": "code",
   "execution_count": null,
   "metadata": {},
   "outputs": [],
   "source": []
  }
 ],
 "metadata": {
  "kernelspec": {
   "display_name": "Python 3",
   "language": "python",
   "name": "python3"
  },
  "language_info": {
   "codemirror_mode": {
    "name": "ipython",
    "version": 3
   },
   "file_extension": ".py",
   "mimetype": "text/x-python",
   "name": "python",
   "nbconvert_exporter": "python",
   "pygments_lexer": "ipython3",
   "version": "3.7.4"
  }
 },
 "nbformat": 4,
 "nbformat_minor": 4
}
